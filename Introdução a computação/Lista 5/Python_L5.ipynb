{
  "nbformat": 4,
  "nbformat_minor": 0,
  "metadata": {
    "colab": {
      "provenance": []
    },
    "kernelspec": {
      "name": "python3",
      "display_name": "Python 3"
    },
    "language_info": {
      "name": "python"
    }
  },
  "cells": [
    {
      "cell_type": "markdown",
      "source": [
        " 1 - Desenvolva um programa em python que mostre na tela do computador os números de 1 a 20. Note que neste exercício, o usuário não terá que informar nenhum valor.  Apenas mostrar os números 1 a 20 na tela."
      ],
      "metadata": {
        "id": "OgmaYMq9VxUL"
      }
    },
    {
      "cell_type": "code",
      "source": [
        "i = 1\n",
        "\n",
        "for i in range(21):\n",
        "  print(i)\n"
      ],
      "metadata": {
        "colab": {
          "base_uri": "https://localhost:8080/"
        },
        "id": "YEvcGmMnWJ2Q",
        "outputId": "0001d768-0e41-4ae6-e2f7-d8969213384b"
      },
      "execution_count": null,
      "outputs": [
        {
          "output_type": "stream",
          "name": "stdout",
          "text": [
            "0\n",
            "1\n",
            "2\n",
            "3\n",
            "4\n",
            "5\n",
            "6\n",
            "7\n",
            "8\n",
            "9\n",
            "10\n",
            "11\n",
            "12\n",
            "13\n",
            "14\n",
            "15\n",
            "16\n",
            "17\n",
            "18\n",
            "19\n",
            "20\n"
          ]
        }
      ]
    },
    {
      "cell_type": "markdown",
      "source": [
        "2 - Desenvolva um programa em python que solicite ao usuário informa um número inteiro. O programa deverá mostrar na tela os números de 1 a N (número inteiro informado)."
      ],
      "metadata": {
        "id": "eGU6_w34VzUF"
      }
    },
    {
      "cell_type": "code",
      "source": [
        "num = int(input('Digite o numero final:'))\n",
        "\n",
        "for i in range(num + 1):\n",
        "  print(i)"
      ],
      "metadata": {
        "colab": {
          "base_uri": "https://localhost:8080/"
        },
        "id": "gzZqDxu3WKPm",
        "outputId": "5e5925de-4375-4d7a-c8f7-f45bee454155"
      },
      "execution_count": null,
      "outputs": [
        {
          "output_type": "stream",
          "name": "stdout",
          "text": [
            "Digite o numero final:6\n",
            "0\n",
            "1\n",
            "2\n",
            "3\n",
            "4\n",
            "5\n",
            "6\n"
          ]
        }
      ]
    },
    {
      "cell_type": "markdown",
      "source": [
        "3 - Desenvolva um programa em python que mostre na tela do computador os números pares entre 1 a 50. Neste exercício, o usuário não terá que informar nenhum valor. Apenas mostrar os números pares pertencentes ao intervalo solicitado na tela."
      ],
      "metadata": {
        "id": "MhXbhPCLVzlD"
      }
    },
    {
      "cell_type": "code",
      "source": [
        "for i in range(2, 51, 2):\n",
        "  print(i)"
      ],
      "metadata": {
        "colab": {
          "base_uri": "https://localhost:8080/"
        },
        "id": "BQ_Ab505WKe3",
        "outputId": "2449bf87-0cbe-484a-d608-a2ede7527f61"
      },
      "execution_count": null,
      "outputs": [
        {
          "output_type": "stream",
          "name": "stdout",
          "text": [
            "2\n",
            "4\n",
            "6\n",
            "8\n",
            "10\n",
            "12\n",
            "14\n",
            "16\n",
            "18\n",
            "20\n",
            "22\n",
            "24\n",
            "26\n",
            "28\n",
            "30\n",
            "32\n",
            "34\n",
            "36\n",
            "38\n",
            "40\n",
            "42\n",
            "44\n",
            "46\n",
            "48\n",
            "50\n"
          ]
        }
      ]
    },
    {
      "cell_type": "markdown",
      "source": [
        "4"
      ],
      "metadata": {
        "id": "x-7CQndxVz0H"
      }
    },
    {
      "cell_type": "code",
      "source": [
        "n = int(input('Digite o numero de repetiçoes: '))\n",
        "\n",
        "for i in range(n):\n",
        "  nd = int(input('Digite um valor: '))\n",
        "  if nd % 2 == 1:\n",
        "    print('\\nÉ um numero impar\\n')"
      ],
      "metadata": {
        "colab": {
          "base_uri": "https://localhost:8080/"
        },
        "id": "kESmQ5z5WK9W",
        "outputId": "fd825f51-d217-400f-ca51-a57301ea3fb4"
      },
      "execution_count": null,
      "outputs": [
        {
          "name": "stdout",
          "output_type": "stream",
          "text": [
            "Digite o numero de repetiçoes: 3\n",
            "Digite um valor: 25\n",
            "\n",
            "É um numero impar\n",
            "\n",
            "Digite um valor: 21\n",
            "\n",
            "É um numero impar\n",
            "\n",
            "Digite um valor: 22\n"
          ]
        }
      ]
    },
    {
      "cell_type": "markdown",
      "source": [
        "5"
      ],
      "metadata": {
        "id": "fi4271ItV0OD"
      }
    },
    {
      "cell_type": "code",
      "source": [
        "x = True\n",
        "\n",
        "while x == True:\n",
        "  valor = int(input('Digite o valor: '))\n",
        "  if valor == 0:\n",
        "    x = False\n",
        "  elif valor % 2 == 0:\n",
        "    print('\\né um numero par\\n')"
      ],
      "metadata": {
        "colab": {
          "base_uri": "https://localhost:8080/"
        },
        "id": "h7kfbJy4WLyv",
        "outputId": "04b0b034-4949-43d1-f31d-f0309d66ab27"
      },
      "execution_count": null,
      "outputs": [
        {
          "name": "stdout",
          "output_type": "stream",
          "text": [
            "Digite o valor: 6\n",
            "\n",
            "é um numero par\n",
            "\n",
            "Digite o valor: 5\n",
            "Digite o valor: 4\n",
            "\n",
            "é um numero par\n",
            "\n",
            "Digite o valor: 0\n"
          ]
        }
      ]
    },
    {
      "cell_type": "markdown",
      "source": [
        "6"
      ],
      "metadata": {
        "id": "0EHo3CC2V0dt"
      }
    },
    {
      "cell_type": "code",
      "source": [
        "cont = 0\n",
        "\n",
        "for i in range(15):\n",
        "  valor = int(input('Digite o valor: \\n'))\n",
        "  if valor >= 10 and valor <= 20:\n",
        "    cont += 1\n",
        "\n",
        "print(f'foram informados {cont} valores no intervalo especificado')\n"
      ],
      "metadata": {
        "colab": {
          "base_uri": "https://localhost:8080/"
        },
        "id": "NtP-9_-bWMN7",
        "outputId": "dc460df3-0701-4449-cc13-aa17b986e466"
      },
      "execution_count": null,
      "outputs": [
        {
          "output_type": "stream",
          "name": "stdout",
          "text": [
            "Digite o valor: \n",
            "1\n",
            "Digite o valor: \n",
            "2\n",
            "Digite o valor: \n",
            "3\n",
            "Digite o valor: \n",
            "4\n",
            "Digite o valor: \n",
            "5\n",
            "foram informados 0 valores no intervalo especificado\n"
          ]
        }
      ]
    },
    {
      "cell_type": "markdown",
      "source": [
        "7"
      ],
      "metadata": {
        "id": "rCu9pD79V0rr"
      }
    },
    {
      "cell_type": "code",
      "source": [
        "soma = 0\n",
        "\n",
        "for i in range(15):\n",
        "  valor = int(input('Digite o valor: \\n'))\n",
        "  soma = soma + valor\n",
        "\n",
        "print(f'Total da soma é {soma}')"
      ],
      "metadata": {
        "colab": {
          "base_uri": "https://localhost:8080/"
        },
        "id": "WNoA0AzbWMhX",
        "outputId": "964ba317-4d55-447e-c22d-48dbff54e0e7"
      },
      "execution_count": null,
      "outputs": [
        {
          "output_type": "stream",
          "name": "stdout",
          "text": [
            "Digite o valor: \n",
            "1\n",
            "Digite o valor: \n",
            "2\n",
            "Digite o valor: \n",
            "3\n",
            "Digite o valor: \n",
            "4\n",
            "Digite o valor: \n",
            "5\n",
            "Digite o valor: \n",
            "5\n",
            "Digite o valor: \n",
            "4\n",
            "Digite o valor: \n",
            "3\n",
            "Digite o valor: \n",
            "2\n",
            "Digite o valor: \n",
            "1\n",
            "Digite o valor: \n",
            "1\n",
            "Digite o valor: \n",
            "3\n",
            "Digite o valor: \n",
            "5\n",
            "Digite o valor: \n",
            "2\n",
            "Digite o valor: \n",
            "4\n",
            "Total da soma é 45\n"
          ]
        }
      ]
    },
    {
      "cell_type": "markdown",
      "source": [
        "8"
      ],
      "metadata": {
        "id": "9TaLV_v6V08_"
      }
    },
    {
      "cell_type": "code",
      "source": [
        "quant = 0\n",
        "soma = 0\n",
        "\n",
        "for i in range(1,6):\n",
        "  valor = int(input('Digite o valor: \\n'))\n",
        "  if valor % 2 == 1:\n",
        "    quant += 1\n",
        "    soma = soma + valor\n",
        "if cont > 0:\n",
        "  media = soma / quant\n",
        "  print(f'Total da media é {media:.2f}')\n",
        "else:\n",
        "  print('Quant = 0')"
      ],
      "metadata": {
        "colab": {
          "base_uri": "https://localhost:8080/",
          "height": 356
        },
        "id": "U9Yd7EEwWM7U",
        "outputId": "d8997ecd-62fd-44d1-cf4b-894452d78b69"
      },
      "execution_count": null,
      "outputs": [
        {
          "output_type": "error",
          "ename": "KeyboardInterrupt",
          "evalue": "Interrupted by user",
          "traceback": [
            "\u001b[0;31m---------------------------------------------------------------------------\u001b[0m",
            "\u001b[0;31mKeyboardInterrupt\u001b[0m                         Traceback (most recent call last)",
            "\u001b[0;32m<ipython-input-2-2b4ac4cb88aa>\u001b[0m in \u001b[0;36m<cell line: 0>\u001b[0;34m()\u001b[0m\n\u001b[1;32m      3\u001b[0m \u001b[0;34m\u001b[0m\u001b[0m\n\u001b[1;32m      4\u001b[0m \u001b[0;32mfor\u001b[0m \u001b[0mi\u001b[0m \u001b[0;32min\u001b[0m \u001b[0mrange\u001b[0m\u001b[0;34m(\u001b[0m\u001b[0;36m1\u001b[0m\u001b[0;34m,\u001b[0m\u001b[0;36m6\u001b[0m\u001b[0;34m)\u001b[0m\u001b[0;34m:\u001b[0m\u001b[0;34m\u001b[0m\u001b[0;34m\u001b[0m\u001b[0m\n\u001b[0;32m----> 5\u001b[0;31m   \u001b[0mvalor\u001b[0m \u001b[0;34m=\u001b[0m \u001b[0mint\u001b[0m\u001b[0;34m(\u001b[0m\u001b[0minput\u001b[0m\u001b[0;34m(\u001b[0m\u001b[0;34m'Digite o valor: \\n'\u001b[0m\u001b[0;34m)\u001b[0m\u001b[0;34m)\u001b[0m\u001b[0;34m\u001b[0m\u001b[0;34m\u001b[0m\u001b[0m\n\u001b[0m\u001b[1;32m      6\u001b[0m   \u001b[0;32mif\u001b[0m \u001b[0mvalor\u001b[0m \u001b[0;34m%\u001b[0m \u001b[0;36m2\u001b[0m \u001b[0;34m==\u001b[0m \u001b[0;36m1\u001b[0m\u001b[0;34m:\u001b[0m\u001b[0;34m\u001b[0m\u001b[0;34m\u001b[0m\u001b[0m\n\u001b[1;32m      7\u001b[0m     \u001b[0mquant\u001b[0m \u001b[0;34m+=\u001b[0m \u001b[0;36m1\u001b[0m\u001b[0;34m\u001b[0m\u001b[0;34m\u001b[0m\u001b[0m\n",
            "\u001b[0;32m/usr/local/lib/python3.11/dist-packages/ipykernel/kernelbase.py\u001b[0m in \u001b[0;36mraw_input\u001b[0;34m(self, prompt)\u001b[0m\n\u001b[1;32m   1175\u001b[0m                 \u001b[0;34m\"raw_input was called, but this frontend does not support input requests.\"\u001b[0m\u001b[0;34m\u001b[0m\u001b[0;34m\u001b[0m\u001b[0m\n\u001b[1;32m   1176\u001b[0m             )\n\u001b[0;32m-> 1177\u001b[0;31m         return self._input_request(\n\u001b[0m\u001b[1;32m   1178\u001b[0m             \u001b[0mstr\u001b[0m\u001b[0;34m(\u001b[0m\u001b[0mprompt\u001b[0m\u001b[0;34m)\u001b[0m\u001b[0;34m,\u001b[0m\u001b[0;34m\u001b[0m\u001b[0;34m\u001b[0m\u001b[0m\n\u001b[1;32m   1179\u001b[0m             \u001b[0mself\u001b[0m\u001b[0;34m.\u001b[0m\u001b[0m_parent_ident\u001b[0m\u001b[0;34m[\u001b[0m\u001b[0;34m\"shell\"\u001b[0m\u001b[0;34m]\u001b[0m\u001b[0;34m,\u001b[0m\u001b[0;34m\u001b[0m\u001b[0;34m\u001b[0m\u001b[0m\n",
            "\u001b[0;32m/usr/local/lib/python3.11/dist-packages/ipykernel/kernelbase.py\u001b[0m in \u001b[0;36m_input_request\u001b[0;34m(self, prompt, ident, parent, password)\u001b[0m\n\u001b[1;32m   1217\u001b[0m             \u001b[0;32mexcept\u001b[0m \u001b[0mKeyboardInterrupt\u001b[0m\u001b[0;34m:\u001b[0m\u001b[0;34m\u001b[0m\u001b[0;34m\u001b[0m\u001b[0m\n\u001b[1;32m   1218\u001b[0m                 \u001b[0;31m# re-raise KeyboardInterrupt, to truncate traceback\u001b[0m\u001b[0;34m\u001b[0m\u001b[0;34m\u001b[0m\u001b[0m\n\u001b[0;32m-> 1219\u001b[0;31m                 \u001b[0;32mraise\u001b[0m \u001b[0mKeyboardInterrupt\u001b[0m\u001b[0;34m(\u001b[0m\u001b[0;34m\"Interrupted by user\"\u001b[0m\u001b[0;34m)\u001b[0m \u001b[0;32mfrom\u001b[0m \u001b[0;32mNone\u001b[0m\u001b[0;34m\u001b[0m\u001b[0;34m\u001b[0m\u001b[0m\n\u001b[0m\u001b[1;32m   1220\u001b[0m             \u001b[0;32mexcept\u001b[0m \u001b[0mException\u001b[0m\u001b[0;34m:\u001b[0m\u001b[0;34m\u001b[0m\u001b[0;34m\u001b[0m\u001b[0m\n\u001b[1;32m   1221\u001b[0m                 \u001b[0mself\u001b[0m\u001b[0;34m.\u001b[0m\u001b[0mlog\u001b[0m\u001b[0;34m.\u001b[0m\u001b[0mwarning\u001b[0m\u001b[0;34m(\u001b[0m\u001b[0;34m\"Invalid Message:\"\u001b[0m\u001b[0;34m,\u001b[0m \u001b[0mexc_info\u001b[0m\u001b[0;34m=\u001b[0m\u001b[0;32mTrue\u001b[0m\u001b[0;34m)\u001b[0m\u001b[0;34m\u001b[0m\u001b[0;34m\u001b[0m\u001b[0m\n",
            "\u001b[0;31mKeyboardInterrupt\u001b[0m: Interrupted by user"
          ]
        }
      ]
    },
    {
      "cell_type": "markdown",
      "source": [
        "9"
      ],
      "metadata": {
        "id": "V0hMkecYV1KL"
      }
    },
    {
      "cell_type": "code",
      "source": [
        "multi = int(input('Digite o multiplicando: '))\n",
        "multiplic = int(input('Digite o multiplicador: '))\n",
        "total = 0\n",
        "cont = 0\n",
        "\n",
        "while cont < multiplic:\n",
        "  total += multi\n",
        "  cont += 1\n",
        "\n",
        "print('Total: ', total)"
      ],
      "metadata": {
        "colab": {
          "base_uri": "https://localhost:8080/"
        },
        "id": "C6zco0g9WNSS",
        "outputId": "f4caea77-e857-49f0-b97e-8636bfecf4ec"
      },
      "execution_count": null,
      "outputs": [
        {
          "output_type": "stream",
          "name": "stdout",
          "text": [
            "Digite o multiplicando: 5\n",
            "Digite o multiplicador: 5\n",
            "Total:  25\n"
          ]
        }
      ]
    },
    {
      "cell_type": "markdown",
      "source": [
        "10"
      ],
      "metadata": {
        "id": "OUSBZg35V1av"
      }
    },
    {
      "cell_type": "code",
      "source": [],
      "metadata": {
        "id": "kMocKh-IWNje"
      },
      "execution_count": null,
      "outputs": []
    }
  ]
}