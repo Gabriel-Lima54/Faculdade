{
  "nbformat": 4,
  "nbformat_minor": 0,
  "metadata": {
    "colab": {
      "provenance": []
    },
    "kernelspec": {
      "name": "python3",
      "display_name": "Python 3"
    },
    "language_info": {
      "name": "python"
    }
  },
  "cells": [
    {
      "cell_type": "markdown",
      "source": [
        "# 1 Desenvolva um algoritmo que solicite ao usuário informar um valor inteiro que corresponda a idade de um nadador. Após, o algoritmo deverá classificar o nadador nas categorias abaixo e mostrar esta informação na tela do computador. As categorias são:\n",
        "\n",
        "Infantil A : 5 a 7 anos\n",
        "Infantil B : 8 a 10 anos\n",
        "Juvenil A : 11 a 13 anos\n",
        "Juvenil B : 14 a 17 anos\n",
        "Sênior : maiores de 18 anos."
      ],
      "metadata": {
        "id": "ktdi5DOI3CXI"
      }
    },
    {
      "cell_type": "code",
      "source": [
        "id = int(input('Digite a idade do nadador:'))"
      ],
      "metadata": {
        "colab": {
          "base_uri": "https://localhost:8080/"
        },
        "id": "e3Nl9QyC3HvX",
        "outputId": "1e2a15c1-7a07-496b-a446-05c2f73c413d"
      },
      "execution_count": null,
      "outputs": [
        {
          "name": "stdout",
          "output_type": "stream",
          "text": [
            "Digite a idade do nadador:8\n"
          ]
        }
      ]
    },
    {
      "cell_type": "code",
      "source": [
        "if  id < 5:\n",
        "  print('Idade muito baixa')\n",
        "elif id >= 5 and id <= 7:\n",
        "  print('Categoria Infantil A')\n",
        "elif id >= 8 and id <= 10:\n",
        "  print('Categoria Infantil B')\n",
        "elif id >= 11 and id <= 13:\n",
        "  print('Categoria Juvenil A')\n",
        "elif id >= 14 and id <= 17:\n",
        "  print('Categoria Juvenil B')\n",
        "else:\n",
        "  print('Categoria Senior')"
      ],
      "metadata": {
        "colab": {
          "base_uri": "https://localhost:8080/"
        },
        "id": "4t0-Tzd-3IDn",
        "outputId": "f9ea67b3-da21-4a8f-8e1e-9e1645051656"
      },
      "execution_count": null,
      "outputs": [
        {
          "output_type": "stream",
          "name": "stdout",
          "text": [
            "Categoria Infantil B\n"
          ]
        }
      ]
    },
    {
      "cell_type": "code",
      "source": [
        "if  id < 5:\n",
        "  print('Idade muito baixa')\n",
        "elif id <= 7:\n",
        "  print('Categoria Infantil A')\n",
        "elif id <= 10:\n",
        "  print('Categoria Infantil B')\n",
        "elif id <= 13:\n",
        "  print('Categoria Juvenil A')\n",
        "elif id <= 17:\n",
        "  print('Categoria Juvenil B')\n",
        "else:\n",
        "  print('Categoria Senior')"
      ],
      "metadata": {
        "colab": {
          "base_uri": "https://localhost:8080/"
        },
        "id": "0wBVmsJTIVqK",
        "outputId": "69daf27c-3159-42a0-c513-1c667e2c5e87"
      },
      "execution_count": null,
      "outputs": [
        {
          "output_type": "stream",
          "name": "stdout",
          "text": [
            "Categoria Infantil B\n"
          ]
        }
      ]
    },
    {
      "cell_type": "markdown",
      "source": [
        "# 2 esenvolva um algoritmo que solicite que o usuário informe um código e três valores nomeados como a, b e c. O código vai determinar qual operação o algoritmo irá realizar:\n",
        "\n",
        "✔ código = 1: multiplicar os três valores\n",
        "✔ código = 2: somar os três valores\n",
        "✔ código = 3: subtrair os três valores\n",
        "✔ código = 4: somar o cubo dos 3 valores"
      ],
      "metadata": {
        "id": "Hy_37vWM3DQo"
      }
    },
    {
      "cell_type": "code",
      "source": [
        " a = int(input('Digite o primeiro valor:'))\n",
        " b = int(input('Digite o segundo valor:'))\n",
        " c = int(input('Digite o terceiro valor:'))\n",
        " cod = int(input('Digite o codigo desejado:'))\n"
      ],
      "metadata": {
        "colab": {
          "base_uri": "https://localhost:8080/"
        },
        "id": "IEkRPcuO3Tmn",
        "outputId": "cc352cd1-3cbc-4d1f-8e9d-fd0f7fdb975f"
      },
      "execution_count": null,
      "outputs": [
        {
          "name": "stdout",
          "output_type": "stream",
          "text": [
            "Digite o primeiro valor:-20\n",
            "Digite o segundo valor:30\n",
            "Digite o terceiro valor:50\n",
            "Digite o codigo desejado:2\n"
          ]
        }
      ]
    },
    {
      "cell_type": "code",
      "source": [
        "if a <= 0 or b <= 0 or c <= 0:\n",
        "  print('Valores invalidos, digitar apenas valores maiores que zero')\n",
        "elif cod == 1:\n",
        "  print(f'Resultado:{(a * b) * c}')\n",
        "elif cod == 2:\n",
        "  print(f'Resultado:{a + b + c}')\n",
        "elif cod == 3:\n",
        "  print(f'Resultado:{a - b - c}')\n",
        "elif cod == 4:\n",
        "  print(f'Resultado:{(a^2)+(b^2)+(c^2)}')\n",
        "else:\n",
        "  print('Codigo invalido, digite valores entre 1 e 4')\n"
      ],
      "metadata": {
        "colab": {
          "base_uri": "https://localhost:8080/"
        },
        "id": "4l50OwqG350w",
        "outputId": "5bc362fd-50d8-43bc-a1d9-e3201e05080e"
      },
      "execution_count": null,
      "outputs": [
        {
          "output_type": "stream",
          "name": "stdout",
          "text": [
            "Valores invalidos, digitar apenas valores maiores que zero\n"
          ]
        }
      ]
    },
    {
      "cell_type": "code",
      "source": [
        "if a <= 0 or b <= 0 or c <= 0:\n",
        "  print('Valores invalidos, digitar apenas valores maiores que zero')\n",
        "elif cod == 1:\n",
        "  mult = (a * b) * c\n",
        "  print(f'Resultado:{mult}')\n",
        "elif cod == 2:\n",
        "  soma = a + b + c\n",
        "  print(f'Resultado:{soma}')\n",
        "elif cod == 3:\n",
        "  sub = a - b - c\n",
        "  print(f'Resultado:{sub}')\n",
        "elif cod == 4:\n",
        "  pot = (a^2)+(b^2)+(c^2)\n",
        "  print(f'Resultado:{pot}')\n",
        "else:\n",
        "  print('Codigo invalido, digite valores entre 1 e 4')"
      ],
      "metadata": {
        "colab": {
          "base_uri": "https://localhost:8080/",
          "height": 211
        },
        "id": "7Mks0ifTBBLf",
        "outputId": "c1b5b49c-b266-4a37-c028-d4e2a42599ee"
      },
      "execution_count": null,
      "outputs": [
        {
          "output_type": "error",
          "ename": "NameError",
          "evalue": "name 'a' is not defined",
          "traceback": [
            "\u001b[0;31m---------------------------------------------------------------------------\u001b[0m",
            "\u001b[0;31mNameError\u001b[0m                                 Traceback (most recent call last)",
            "\u001b[0;32m<ipython-input-11-cc6764c1f55f>\u001b[0m in \u001b[0;36m<cell line: 0>\u001b[0;34m()\u001b[0m\n\u001b[0;32m----> 1\u001b[0;31m \u001b[0;32mif\u001b[0m \u001b[0ma\u001b[0m \u001b[0;34m<=\u001b[0m \u001b[0;36m0\u001b[0m \u001b[0;32mor\u001b[0m \u001b[0mb\u001b[0m \u001b[0;34m<=\u001b[0m \u001b[0;36m0\u001b[0m \u001b[0;32mor\u001b[0m \u001b[0mc\u001b[0m \u001b[0;34m<=\u001b[0m \u001b[0;36m0\u001b[0m\u001b[0;34m:\u001b[0m\u001b[0;34m\u001b[0m\u001b[0;34m\u001b[0m\u001b[0m\n\u001b[0m\u001b[1;32m      2\u001b[0m   \u001b[0mprint\u001b[0m\u001b[0;34m(\u001b[0m\u001b[0;34m'Valores invalidos, digitar apenas valores maiores que zero'\u001b[0m\u001b[0;34m)\u001b[0m\u001b[0;34m\u001b[0m\u001b[0;34m\u001b[0m\u001b[0m\n\u001b[1;32m      3\u001b[0m \u001b[0;32melif\u001b[0m \u001b[0mcod\u001b[0m \u001b[0;34m==\u001b[0m \u001b[0;36m1\u001b[0m\u001b[0;34m:\u001b[0m\u001b[0;34m\u001b[0m\u001b[0;34m\u001b[0m\u001b[0m\n\u001b[1;32m      4\u001b[0m   \u001b[0mmult\u001b[0m \u001b[0;34m=\u001b[0m \u001b[0;34m(\u001b[0m\u001b[0ma\u001b[0m \u001b[0;34m*\u001b[0m \u001b[0mb\u001b[0m\u001b[0;34m)\u001b[0m \u001b[0;34m*\u001b[0m \u001b[0mc\u001b[0m\u001b[0;34m\u001b[0m\u001b[0;34m\u001b[0m\u001b[0m\n\u001b[1;32m      5\u001b[0m   \u001b[0mprint\u001b[0m\u001b[0;34m(\u001b[0m\u001b[0;34mf'Resultado:{mult}'\u001b[0m\u001b[0;34m)\u001b[0m\u001b[0;34m\u001b[0m\u001b[0;34m\u001b[0m\u001b[0m\n",
            "\u001b[0;31mNameError\u001b[0m: name 'a' is not defined"
          ]
        }
      ]
    },
    {
      "cell_type": "markdown",
      "source": [
        "# 3  Desenvolva um algoritmo que solicite o usuário informar a altura em metros e o sexo de uma pessoa. O algoritmo deverá calcular o peso ideal da pessoa, utilizando as seguintes fórmulas:\n",
        "\n",
        "✔ Para Homens: ( 72.7 * altura ) - 58;\n",
        "✔ Para Mulheres: ( 62.1 * altura) – 44.7\n",
        "\n",
        "\n",
        "\n"
      ],
      "metadata": {
        "id": "JltjvsWO3EaP"
      }
    },
    {
      "cell_type": "code",
      "source": [
        "altura = float(input('Digite a altura da pessoa:'))\n",
        "sexo = input('Digite o sexo:')"
      ],
      "metadata": {
        "colab": {
          "base_uri": "https://localhost:8080/"
        },
        "id": "UsnyxWkc7cfF",
        "outputId": "6767c48e-c6fc-45bc-acc1-7c360949e005"
      },
      "execution_count": null,
      "outputs": [
        {
          "name": "stdout",
          "output_type": "stream",
          "text": [
            "Digite a altura da pessoa:1.8\n",
            "Digite o sexo:mas\n"
          ]
        }
      ]
    },
    {
      "cell_type": "code",
      "source": [
        "if sexo == 'm' or sexo == 'M':\n",
        "  print(f'Peso ideal:{((72.7 * altura) - 58):.1f}kg')\n",
        "elif sexo == 'f' or sexo == 'F':\n",
        "  print(f'Peso ideal:{((62.1 * altura) - 44.7):.1f}kg')\n",
        "else:\n",
        "  print('Sexo invalido, use apenas f/F ou m/M')"
      ],
      "metadata": {
        "colab": {
          "base_uri": "https://localhost:8080/"
        },
        "id": "Kr4RCSpq9Vt4",
        "outputId": "0ffc6273-2c46-4a54-9131-29d496ec9250"
      },
      "execution_count": null,
      "outputs": [
        {
          "output_type": "stream",
          "name": "stdout",
          "text": [
            "Peso ideal:72.9kg\n"
          ]
        }
      ]
    },
    {
      "cell_type": "markdown",
      "source": [
        "# 4 Desenvolva um algoritmo que solicite ao usuário informar um conjunto de 4 valores reais nomeados i, a, b, c. O i é um valor inteiro e positivo que indica a forma como os números devem ser mostrados na tela. Os valores a, b, c são valores reais que devem ser mostrados na tela na seguinte ordem:\n",
        "\n",
        "✔ Se i=1 mostrar os 3 valores a, b, c em ordem crescente;\n",
        "✔ Se i=2 mostrar os 3 valores a, b, c em ordem decrescente;\n",
        "✔ Se i=3 mostrar os 3 valores de forma que o maior valor entre a, b, c fique entre os outros dois."
      ],
      "metadata": {
        "id": "E9QHW8453E4g"
      }
    },
    {
      "cell_type": "code",
      "source": [
        "a = float(input('Digite o primeiro valor:'))\n",
        "b = float(input('Digite o segundo valor:'))\n",
        "c = float(input('Digite o terceiro valor:'))\n",
        "i = int(input('Digite o codigo desejado:'))\n",
        "aux = 0\n",
        "mai = 0\n",
        "med = 0\n",
        "men = 0"
      ],
      "metadata": {
        "colab": {
          "base_uri": "https://localhost:8080/"
        },
        "id": "BEobwdbF_BRQ",
        "outputId": "3cadf9ec-5850-47be-9945-b90263f40259"
      },
      "execution_count": null,
      "outputs": [
        {
          "name": "stdout",
          "output_type": "stream",
          "text": [
            "Digite o primeiro valor:2\n",
            "Digite o segundo valor:6\n",
            "Digite o terceiro valor:4\n",
            "Digite o codigo desejado:1\n"
          ]
        }
      ]
    },
    {
      "cell_type": "code",
      "source": [
        "if i == 1:\n",
        "  if a >= b:\n",
        "    aux = b\n",
        "    b = a\n",
        "    a = aux\n",
        "  if a >= c:\n",
        "    aux = c\n",
        "    c = a\n",
        "    a = aux\n",
        "  if b >= c:\n",
        "    aux = c\n",
        "    c = b\n",
        "    b = aux\n",
        "  print(f'Ordem crescente: {a}, {b}, {c}')\n",
        "elif i == 2:\n",
        "  if a <= b:\n",
        "    aux = b\n",
        "    b = a\n",
        "    a = aux\n",
        "  if a <= c:\n",
        "    aux = c\n",
        "    c = a\n",
        "    a = aux\n",
        "  if b <= c:\n",
        "    aux = c\n",
        "    c = b\n",
        "    b = aux\n",
        "  print(f'Ordem decrescente: {a}, {b}, {c}')\n",
        "elif i == 3:\n",
        "  if a >= b:\n",
        "    aux = b\n",
        "    b = a\n",
        "    a = aux\n",
        "  if a >= c:\n",
        "    aux = c\n",
        "    c = a\n",
        "    a = aux\n",
        "  if c >= b:\n",
        "    aux = b\n",
        "    b = c\n",
        "    c = aux\n",
        "  print(f'Ordem com o maior no meio: {a}, {b}, {c}')\n",
        "else:\n",
        "  print('Codigo invalido')"
      ],
      "metadata": {
        "colab": {
          "base_uri": "https://localhost:8080/"
        },
        "id": "e7w3vz3A_OyY",
        "outputId": "8cb99f6f-585e-422d-ac72-42cb25ad121b"
      },
      "execution_count": null,
      "outputs": [
        {
          "output_type": "stream",
          "name": "stdout",
          "text": [
            "Ordem crescente: 2.0, 4.0, 6.0\n"
          ]
        }
      ]
    },
    {
      "cell_type": "code",
      "source": [
        "if a >= b:\n",
        "    aux = b\n",
        "    b = a\n",
        "    a = aux\n",
        "    if a >= c:\n",
        "      aux = c\n",
        "      c = a\n",
        "      a = aux\n",
        "      if b >= c:\n",
        "        aux = c\n",
        "        c = b\n",
        "        b = aux\n",
        "men = a\n",
        "med = b\n",
        "mai = c\n",
        "if i == 1:\n",
        "  print(f'Ordem crescente: {men},{med},{mai}')\n",
        "elif i == 2:\n",
        "  print(f'Ordem decrescente: {mai},{med},{men}')\n",
        "elif i == 3:\n",
        "  print(f'Ordem com o maior no meio: {men},{mai},{med}')\n",
        "else:\n",
        "  print('Codigo invalido')"
      ],
      "metadata": {
        "colab": {
          "base_uri": "https://localhost:8080/"
        },
        "id": "8QUZLNKgJz5F",
        "outputId": "f37bbe81-2d09-463c-9e77-b133d455a9b0"
      },
      "execution_count": null,
      "outputs": [
        {
          "output_type": "stream",
          "name": "stdout",
          "text": [
            "Ordem crescente: 2.0,4.0,6.0\n"
          ]
        }
      ]
    },
    {
      "cell_type": "markdown",
      "source": [
        "# 5 Desenvolva um algoritmo que solicite ao usuário informar o sexo do colaborador, o tempo de trabalho na empresa e seu salário atual. Para informar o sexo do colaborador, o usuário digitar os caracteres 'F' ou 'f' ou 'M' ou 'm'. O algoritmo deve calcular e mostrar o valor do bônus de Natal."
      ],
      "metadata": {
        "id": "SBgp2MYc3FOI"
      }
    },
    {
      "cell_type": "code",
      "source": [
        "sexo = input('Digite o sexo do funcionario:')\n",
        "tempTrab = int(input('Digite o tempo de trabalho do funcionario:'))\n",
        "sal = float(input('Digite o salario do funcionario:'))"
      ],
      "metadata": {
        "colab": {
          "base_uri": "https://localhost:8080/"
        },
        "id": "jk9p2aqdG5kI",
        "outputId": "cc0c0f37-43f9-4188-ebc0-e943868ce2fe"
      },
      "execution_count": null,
      "outputs": [
        {
          "name": "stdout",
          "output_type": "stream",
          "text": [
            "Digite o sexo do funcionario:f\n",
            "Digite o tempo de trabalho do funcionario:15\n",
            "Digite o salario do funcionario:3500\n"
          ]
        }
      ]
    },
    {
      "cell_type": "code",
      "source": [
        "if sexo == 'm' or sexo == 'M':\n",
        "  if tempTrab > 15:\n",
        "    print(f'Novo salario:R${(sal * 0.2):.2f}')\n",
        "  else:\n",
        "    print(f'Novo salario:R${(sal + 1000):.2f}')\n",
        "elif sexo == 'f' or sexo == 'F':\n",
        "  if tempTrab > 10:\n",
        "    print(f'Novo salario:R${(sal * 0.25):.2f}')\n",
        "  else:\n",
        "    print(f'Novo salario:R${(sal + 1000):.2f}')\n",
        "else:\n",
        "  print('Sexo invalido, use apenas f/F ou m/M')"
      ],
      "metadata": {
        "colab": {
          "base_uri": "https://localhost:8080/"
        },
        "id": "SUmD-YOUNjDI",
        "outputId": "e0c1b641-086d-4ff8-e57d-097622dad6fd"
      },
      "execution_count": null,
      "outputs": [
        {
          "output_type": "stream",
          "name": "stdout",
          "text": [
            "Novo salario:R$875.00\n"
          ]
        }
      ]
    },
    {
      "cell_type": "markdown",
      "source": [
        "# 6 Desenvolva um algoritmo que solicite ao usuário informar o código do cargo do colaborador e o seu salário atual e calcule seu novo salário de acordo com a tabela. O algoritmo deverá mostrar na tela o nome do cargo, o salário antigo, o novo salário e o valor do aumento salarial."
      ],
      "metadata": {
        "id": "YNXLett63F2I"
      }
    },
    {
      "cell_type": "code",
      "source": [
        "cod = int(input('Digite o codigo do cargo:'))\n",
        "sal = float(input('Digite o salario atual:'))"
      ],
      "metadata": {
        "colab": {
          "base_uri": "https://localhost:8080/"
        },
        "id": "dAbsrEMg6g0U",
        "outputId": "96110d10-a079-4a3e-9d2b-d0339c785483"
      },
      "execution_count": null,
      "outputs": [
        {
          "name": "stdout",
          "output_type": "stream",
          "text": [
            "Digite o codigo do cargo:102\n",
            "Digite o salario atual:5000\n"
          ]
        }
      ]
    },
    {
      "cell_type": "code",
      "source": [
        "if cod == 101:\n",
        "  aum = sal * 0.1\n",
        "  novSal = sal + aum\n",
        "  print('Cargo: Gerente')\n",
        "elif cod == 102:\n",
        "  aum  = sal * 0.2\n",
        "  novSal = sal + aum\n",
        "  print('Cargo: Engenheiro')\n",
        "elif cod == 103:\n",
        "  aum = sal * 0.3\n",
        "  novSal = sal + aum\n",
        "  print('Cargo: Tecnico')\n",
        "else:\n",
        "  aum = sal * 0.4\n",
        "  novSal = sal + aum\n",
        "  print('Cargo: Outro')\n",
        "\n",
        "print(f'Salario antigo:R${sal:.2f}')\n",
        "print(f'Salario novo:R${novSal:.2f}')\n",
        "print(f'Valor do aumento:R${(aum):.2f}')"
      ],
      "metadata": {
        "colab": {
          "base_uri": "https://localhost:8080/"
        },
        "id": "lGHrxsjhPjx6",
        "outputId": "8435f494-10cf-4640-e4b3-7d0a3e145d1a"
      },
      "execution_count": null,
      "outputs": [
        {
          "output_type": "stream",
          "name": "stdout",
          "text": [
            "Cargo: Engenheiro\n",
            "Salario antigo:R$5000.00\n",
            "Salario novo:R$6000.00\n",
            "Valor do aumento:R$1000.00\n"
          ]
        }
      ]
    },
    {
      "cell_type": "code",
      "source": [
        "if cod == 101:\n",
        "  aum = sal * 0.1\n",
        "  print('Cargo: Gerente')\n",
        "  print(f'Salario antigo:R${sal:.2f}')\n",
        "  print(f'Salario novo:R${novSal:.2f}')\n",
        "  print(f'Valor do aumento:R${(novSal - sal):.2f}')\n",
        "elif cod == 102:\n",
        "  aum = sal * 0.2\n",
        "  print('Cargo: Engenheiro')\n",
        "  print(f'Salario antigo:R${sal:.2f}')\n",
        "  print(f'Salario novo:R${(sal + aum):.2f}')\n",
        "  print(f'Valor do aumento:R${(aum):.2f}')\n",
        "elif cod == 103:\n",
        "  aum = sal * 0.3\n",
        "  print('Cargo: Tecnico')\n",
        "  print(f'Salario antigo:R${sal:.2f}')\n",
        "  print(f'Salario novo:R${sal + aum:.2f}')\n",
        "  print(f'Valor do aumento:R${(novSal - sal):.2f}')\n",
        "else:\n",
        "  aum = sal * 0.4\n",
        "  print('Cargo: Outro')\n",
        "  print(f'Salario antigo:R${sal:.2f}')\n",
        "  print(f'Salario novo:R${novSal:.2f}')\n",
        "  print(f'Valor do aumento:R${(novSal - sal):.2f}')"
      ],
      "metadata": {
        "colab": {
          "base_uri": "https://localhost:8080/"
        },
        "id": "psuA2VNz0_Ga",
        "outputId": "b1196874-8347-4daf-884f-dc1cc367f0c1"
      },
      "execution_count": null,
      "outputs": [
        {
          "output_type": "stream",
          "name": "stdout",
          "text": [
            "Cargo: Engenheiro\n",
            "Salario antigo:R$5000.00\n",
            "Salario novo:R$6000.00\n",
            "Valor do aumento:R$1000.00\n"
          ]
        }
      ]
    }
  ]
}