{
  "cells": [
    {
      "cell_type": "markdown",
      "metadata": {
        "id": "RRYySVieD8-p"
      },
      "source": [
        "1"
      ]
    },
    {
      "cell_type": "code",
      "execution_count": null,
      "metadata": {
        "colab": {
          "base_uri": "https://localhost:8080/"
        },
        "id": "Lo7sjb8nD_ch",
        "outputId": "59a6c9c9-d30a-471d-d50c-115af40cae65"
      },
      "outputs": [
        {
          "name": "stdout",
          "output_type": "stream",
          "text": [
            "Digite o valor menor que 20: 7\n",
            "O fatorial do 7 é 5040\n",
            "Digite o valor menor que 20: 10\n",
            "O fatorial do 10 é 3628800\n",
            "Digite o valor menor que 20: 5\n",
            "O fatorial do 5 é 120\n",
            "Digite o valor menor que 20: 34\n",
            "Digite o valor menor que 20: 0\n",
            "O fatorial do 0 é 1\n",
            "Digite o valor menor que 20: 8\n",
            "O fatorial do 8 é 40320\n",
            "Digite o valor menor que 20: 4\n",
            "O fatorial do 4 é 24\n",
            "Digite o valor menor que 20: 9\n",
            "O fatorial do 9 é 362880\n",
            "Digite o valor menor que 20: 10\n",
            "O fatorial do 10 é 3628800\n",
            "Digite o valor menor que 20: 2\n",
            "O fatorial do 2 é 2\n"
          ]
        }
      ],
      "source": [
        "fat = 1\n",
        "\n",
        "for i in range(1,11):\n",
        "  val = int(input('Digite o valor menor que 20: '))\n",
        "  if val < 20:\n",
        "    for x in range(val,0,-1):\n",
        "      fat *= x\n",
        "    print(f'O fatorial do {val} é {fat}')\n",
        "    fat = 1\n"
      ]
    },
    {
      "cell_type": "markdown",
      "metadata": {
        "id": "NLE3gd71F9zl"
      },
      "source": [
        "2"
      ]
    },
    {
      "cell_type": "code",
      "execution_count": null,
      "metadata": {
        "colab": {
          "base_uri": "https://localhost:8080/"
        },
        "collapsed": true,
        "id": "Ied0Db7RF_aV",
        "outputId": "bd872f8b-b9de-44ca-f08f-b20803117b6f"
      },
      "outputs": [
        {
          "output_type": "stream",
          "name": "stdout",
          "text": [
            "Digite o peso: 13\n",
            "Digite a altura: 0\n",
            "Altura e/ou peso invalido\n",
            "Digite o peso: 56\n",
            "Digite a altura: 1\n",
            "Digite o peso: 32\n",
            "Digite a altura: 6\n",
            "Digite o peso: 19\n",
            "Digite a altura: 5\n",
            "A pessoa mais alta mede 6.0 e pesa 32.0Kg\n"
          ]
        }
      ],
      "source": [
        "peso = float(input('Digite o peso: '))\n",
        "altura = float(input('Digite a altura: '))\n",
        "while (peso <= 0 or altura <= 0):\n",
        "  print('Altura e/ou peso invalido')\n",
        "  peso = float(input('Digite o peso: '))\n",
        "  altura = float(input('Digite a altura: '))\n",
        "mais_alta = altura\n",
        "for x in range(1,3):\n",
        "  peso = float(input('Digite o peso: '))\n",
        "  altura = float(input('Digite a altura: '))\n",
        "  if altura > mais_alta:\n",
        "    mais_alta = altura\n",
        "    mais_peso = peso\n",
        "print(f'A pessoa mais alta mede {mais_alta} e pesa {mais_peso}Kg')"
      ]
    },
    {
      "cell_type": "markdown",
      "metadata": {
        "id": "vzXmCSjtI18_"
      },
      "source": [
        "3"
      ]
    },
    {
      "cell_type": "code",
      "execution_count": null,
      "metadata": {
        "colab": {
          "base_uri": "https://localhost:8080/"
        },
        "id": "yRPKG82cI4u3",
        "outputId": "889d17f2-5b9d-40c4-b1b6-6f62ff53a5b8"
      },
      "outputs": [
        {
          "name": "stdout",
          "output_type": "stream",
          "text": [
            "Digite um valor: 0\n",
            "Valor invalido\n",
            "Digite um valor: -15\n",
            "Digite um valor: 30\n",
            "Digite um valor: -7\n",
            "Digite um valor: -28\n",
            "Digite um valor: 123\n",
            "Digite um valor: 34\n",
            "Digite um valor: 11\n",
            "Digite um valor: 25\n",
            "Digite um valor: 0\n",
            "O menor numero informado é: 11\n"
          ]
        }
      ],
      "source": [
        "valor = int(input('Digite um valor: '))\n",
        "while (valor == 0):\n",
        "  print('Valor invalido')\n",
        "  valor = int(input('Digite um valor: '))\n",
        "menor_valor = 9999\n",
        "while (True):\n",
        "  valor = int(input('Digite um valor: '))\n",
        "  if valor > 0 and valor < menor_valor:\n",
        "    menor_valor = valor\n",
        "  if valor == 0:\n",
        "    break\n",
        "print(f'O menor numero informado é: {menor_valor}')\n",
        "\n"
      ]
    }
  ],
  "metadata": {
    "colab": {
      "provenance": []
    },
    "kernelspec": {
      "display_name": "Python 3",
      "name": "python3"
    },
    "language_info": {
      "name": "python"
    }
  },
  "nbformat": 4,
  "nbformat_minor": 0
}