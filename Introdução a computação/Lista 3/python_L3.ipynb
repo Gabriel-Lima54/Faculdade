{
  "nbformat": 4,
  "nbformat_minor": 0,
  "metadata": {
    "colab": {
      "provenance": []
    },
    "kernelspec": {
      "name": "python3",
      "display_name": "Python 3"
    },
    "language_info": {
      "name": "python"
    }
  },
  "cells": [
    {
      "cell_type": "code",
      "execution_count": null,
      "metadata": {
        "colab": {
          "base_uri": "https://localhost:8080/"
        },
        "id": "-f9xlSZcyQGV",
        "outputId": "8dc0dfbc-719f-4f12-af73-0aac9e12fe31"
      },
      "outputs": [
        {
          "name": "stdout",
          "output_type": "stream",
          "text": [
            "Digite o numero:3\n"
          ]
        }
      ],
      "source": [
        "num = int(input('Digite o numero:'))"
      ]
    },
    {
      "cell_type": "code",
      "source": [
        "if num % 2 == 0:\n",
        "   print(num, 'É par')\n",
        "else:\n",
        "   print(num, 'é impar')"
      ],
      "metadata": {
        "colab": {
          "base_uri": "https://localhost:8080/"
        },
        "id": "CD56iWNUyhkn",
        "outputId": "0441127f-1800-44c7-bc9b-83466fc9c8c6"
      },
      "execution_count": null,
      "outputs": [
        {
          "output_type": "stream",
          "name": "stdout",
          "text": [
            "3 é impar\n"
          ]
        }
      ]
    },
    {
      "cell_type": "markdown",
      "source": [
        "# 1 Desenvolva um programa em Python que solicite ao usuário digitar a idade de uma pessoa. Após a digitação, o computador deverá verificar se esta pessoa é maior ou menor de idade e mostrar esta informação na tela do computador.\n"
      ],
      "metadata": {
        "id": "NmkbEO6Y8jhU"
      }
    },
    {
      "cell_type": "code",
      "source": [
        "id = int(input('Digite a idade:'))"
      ],
      "metadata": {
        "colab": {
          "base_uri": "https://localhost:8080/"
        },
        "id": "AjHbC0Pr88TU",
        "outputId": "11cfbc2d-160b-4c93-a232-6415cf106936"
      },
      "execution_count": null,
      "outputs": [
        {
          "name": "stdout",
          "output_type": "stream",
          "text": [
            "Digite a idade:18\n"
          ]
        }
      ]
    },
    {
      "cell_type": "code",
      "source": [
        "if id < 18:\n",
        "   print('Essa pessoa é menor de idade')\n",
        "else:\n",
        "   print('Essa pessoa é maior de idade')"
      ],
      "metadata": {
        "colab": {
          "base_uri": "https://localhost:8080/"
        },
        "id": "f-51GVfz9Gjk",
        "outputId": "c9ab9579-4e1a-4620-b494-198ffa025425"
      },
      "execution_count": null,
      "outputs": [
        {
          "output_type": "stream",
          "name": "stdout",
          "text": [
            "Essa pessoa é maior de idade\n"
          ]
        }
      ]
    },
    {
      "cell_type": "markdown",
      "source": [
        "# 2 Desenvolva um programa em Python que solicite ao usuário digitar dois números inteiros. O programa deverá verificar entre estes dois valores qual é o maior e mostrar na tela o maior valor. Se dois valores iguais forem digitados, o algoritmo deverá mostrar a mensagem dizendo que dois números iguais foram digitados."
      ],
      "metadata": {
        "id": "_qkOTR4h8j90"
      }
    },
    {
      "cell_type": "code",
      "source": [
        "n1 = int(input('Digite o primeiro numero: '))\n",
        "n2 = int(input('Digite o segundo numero: '))"
      ],
      "metadata": {
        "colab": {
          "base_uri": "https://localhost:8080/"
        },
        "id": "MrB20hL09o8k",
        "outputId": "68d75314-fc45-4ebc-edee-c1dc2ce81394"
      },
      "execution_count": null,
      "outputs": [
        {
          "name": "stdout",
          "output_type": "stream",
          "text": [
            "Digite o primeiro numero: 2\n",
            "Digite o segundo numero: 1\n"
          ]
        }
      ]
    },
    {
      "cell_type": "code",
      "source": [
        "if n1 == n2:\n",
        "   print('sao numeros iguais')\n",
        "elif n1 > n2:\n",
        "   print(n1, 'é o maior numero')\n",
        "else:\n",
        "  print(n2, 'é o maior numero')"
      ],
      "metadata": {
        "colab": {
          "base_uri": "https://localhost:8080/"
        },
        "id": "u5FAYNRlA8r5",
        "outputId": "392f00db-f71f-44a7-9ccf-9889a34b8e2c"
      },
      "execution_count": null,
      "outputs": [
        {
          "output_type": "stream",
          "name": "stdout",
          "text": [
            "2 é o maior numero\n"
          ]
        }
      ]
    },
    {
      "cell_type": "markdown",
      "source": [
        "# 3  Desenvolva um programa em Python que verifique a aprovação de um empréstimo bancário para a compra de uma casa. O programa irá solicitar o valor da casa, o salário do comprador e em quantos anos ele vai pagar a casa. Calcule o valor da prestação mensal, sabendo que ela não pode exceder 30% do salário ou então o empréstimo será negado."
      ],
      "metadata": {
        "id": "2mvCuQ9A8kLU"
      }
    },
    {
      "cell_type": "code",
      "source": [
        "val_casa = float(input('Digite o valor da casa: '))\n",
        "sal_com = float(input('Digite o salario do comprador: '))\n",
        "anos = int(input('Digite em quantos anos vai pagar: '))"
      ],
      "metadata": {
        "colab": {
          "base_uri": "https://localhost:8080/"
        },
        "id": "CGpzE2LBBTWq",
        "outputId": "9e8d46de-a7e4-4362-e1cb-4acbe628e00b"
      },
      "execution_count": null,
      "outputs": [
        {
          "name": "stdout",
          "output_type": "stream",
          "text": [
            "Digite o valor da casa: 150000\n",
            "Digite o salario do comprador: 2000\n",
            "Digite em quantos anos vai pagar: 15\n"
          ]
        }
      ]
    },
    {
      "cell_type": "code",
      "source": [
        "pres = val_casa // anos\n",
        "if pres < ((30 / 100) * sal_com):\n",
        "  print('Emprestimo aprovado')\n",
        "else:\n",
        "  print('Emprestimo negado')\n"
      ],
      "metadata": {
        "colab": {
          "base_uri": "https://localhost:8080/"
        },
        "id": "JiNBsndRB9UZ",
        "outputId": "f2fee2dd-f37f-4924-f415-338d2054f5c9"
      },
      "execution_count": null,
      "outputs": [
        {
          "output_type": "stream",
          "name": "stdout",
          "text": [
            "Emprestimo negado\n"
          ]
        }
      ]
    },
    {
      "cell_type": "markdown",
      "source": [
        "# 4 Desenvolva um programa em Python que leia o ano de nascimento de um jovem e de acordo com a sua idade diga em que situação ele está:\n",
        "\n",
        "já deve se alistar ao serviço militar;\n",
        "ainda é novo para o alistamento;\n",
        "já passou do prazo do alistamento.\n"
      ],
      "metadata": {
        "id": "iyjzJlRh8kY0"
      }
    },
    {
      "cell_type": "code",
      "source": [
        "data = int(input('Digite o ano de nascimento: '))\n",
        "id = 2025 - data"
      ],
      "metadata": {
        "colab": {
          "base_uri": "https://localhost:8080/"
        },
        "id": "dW9JUayjDyVe",
        "outputId": "32c739ab-2235-4cde-d817-a61cf49b09ee"
      },
      "execution_count": null,
      "outputs": [
        {
          "name": "stdout",
          "output_type": "stream",
          "text": [
            "Digite o ano de nascimento: 2004\n"
          ]
        }
      ]
    },
    {
      "cell_type": "code",
      "source": [
        "\n",
        "if id == 18:\n",
        "  print('Ano de nascimento:', data)\n",
        "  print('Deve se alistar esse ano')\n",
        "elif id > 18:\n",
        "  print('Ano de nascimento:', data)\n",
        "  print('Ja passou do prazo do alistamento')\n",
        "  print(f'Esta {id - 18} anos atrasado')\n",
        "else:\n",
        "  print('Ano de nascimento:', data)\n",
        "  print('Ainda é muito novo para o alistamento')\n",
        "  print(f'Faltam {id - 18} anos para se alistar')\n"
      ],
      "metadata": {
        "colab": {
          "base_uri": "https://localhost:8080/"
        },
        "id": "VcvH5zZYD4jF",
        "outputId": "74994c85-71fe-4319-fc79-1350caf4f299"
      },
      "execution_count": null,
      "outputs": [
        {
          "output_type": "stream",
          "name": "stdout",
          "text": [
            "Ano de nascimento: 2004\n",
            "Ja passou do prazo do alistamento\n",
            "Esta 3 anos atrasado\n"
          ]
        }
      ]
    },
    {
      "cell_type": "markdown",
      "source": [
        "# 5 Desenvolva um programa em Python que leia o ano de nascimento de um atleta e mostre a categoria na qual ele se encaixa:\n",
        "\n",
        "Até 9 anos: Mirim\n",
        "Até 14 anos: Infantil\n",
        "Até 19 anos: Junior\n",
        "Até 20 anos: Sênior\n",
        "Acima: Master"
      ],
      "metadata": {
        "id": "wj9fUNbGL58A"
      }
    },
    {
      "cell_type": "code",
      "source": [
        "data = int(input('Digite o ano de nascimento: '))\n",
        "id = 2025 - data"
      ],
      "metadata": {
        "colab": {
          "base_uri": "https://localhost:8080/"
        },
        "id": "UTfwmB7VL8Wn",
        "outputId": "902e107d-90c6-4ff8-d636-f45c78c337ed"
      },
      "execution_count": null,
      "outputs": [
        {
          "name": "stdout",
          "output_type": "stream",
          "text": [
            "Digite o ano de nascimento: 2006\n"
          ]
        }
      ]
    },
    {
      "cell_type": "code",
      "source": [
        "if id <= 9:\n",
        "  print('Categoria Mirim')\n",
        "if id <= 14:\n",
        "  print('Catregoria Infantil')\n",
        "if id <= 19:\n",
        "  print('Categoria Junior')\n",
        "if id == 20:\n",
        "  print('Categoria Senior')\n",
        "elif id > 20:\n",
        "  print('Categoria Master')"
      ],
      "metadata": {
        "colab": {
          "base_uri": "https://localhost:8080/"
        },
        "id": "LKjyfwifMD2Q",
        "outputId": "8c260054-9b4e-4edf-a8bf-c8a493dedce1"
      },
      "execution_count": null,
      "outputs": [
        {
          "output_type": "stream",
          "name": "stdout",
          "text": [
            "Categoria Junior\n"
          ]
        }
      ]
    },
    {
      "cell_type": "markdown",
      "source": [
        "# 6 Desenvolva um programa em Python que calcule o valor a ser pago por um produto, considerando o seu preço normal e condição de pagamento:\n",
        "\n",
        "à vista em dinheiro/cheque: 10% de desconto\n",
        "à vista no cartão de crédito: 5% de desconto\n",
        "em até 2x no cartão de crédito preço normal\n",
        " 3x ou mais no cartão de crédito 10% de juros\n"
      ],
      "metadata": {
        "id": "qN8IQHf-8knc"
      }
    },
    {
      "cell_type": "code",
      "source": [
        "valor = float(input('Digite o valor do produto:'))"
      ],
      "metadata": {
        "colab": {
          "base_uri": "https://localhost:8080/"
        },
        "id": "cqNTbJUGEel1",
        "outputId": "053d37d8-af83-4534-f1df-a6d7610054dc"
      },
      "execution_count": null,
      "outputs": [
        {
          "name": "stdout",
          "output_type": "stream",
          "text": [
            "Digite o valor do produto:10\n"
          ]
        }
      ]
    },
    {
      "cell_type": "code",
      "source": [
        "print('Preco do produto:', valor)\n",
        "print('à vista em dinheiro/cheque:', (valor * 0.90))\n",
        "print('à vista no cartão de crédito:', (valor * 0.95))\n",
        "print('em até 2x no cartão de crédito:', valor)\n",
        "print('3x ou mais no cartão de crédito:', (valor * (1 + ((3 / 100) * 3))))"
      ],
      "metadata": {
        "colab": {
          "base_uri": "https://localhost:8080/"
        },
        "id": "OwV1lzQGJYAr",
        "outputId": "3ea23d4f-cb6d-4814-e750-d8aa55f9e5a8"
      },
      "execution_count": null,
      "outputs": [
        {
          "output_type": "stream",
          "name": "stdout",
          "text": [
            "Preco do produto: 10.0\n",
            "à vista em dinheiro/cheque: 9.0\n",
            "à vista no cartão de crédito: 9.5\n",
            "em até 2x no cartão de crédito: 10.0\n",
            "3x ou mais no cartão de crédito: 10.9\n"
          ]
        }
      ]
    },
    {
      "cell_type": "markdown",
      "source": [
        "# 7 Desenvolva um algoritmo que solicite ao usuário informar dois valores inteiros que correspondam ao código do item do pedido e a quantidade solicitada. O algoritmo deve calcular e mostrar na tela o valor a ser pago pelo. Considere que cada execução somente será calculado um item. Se o usuário digitar um código inexistente, o algoritmo deverá mostrar a mensagem de erro “Erro: código do produto não reconhecido. Códigos válidos devem estar no intervalo de 100 a 105.”"
      ],
      "metadata": {
        "id": "NLGWzXjJ8lSM"
      }
    },
    {
      "cell_type": "code",
      "source": [
        "cod = int(input('Digite o codigo do item:'))\n",
        "quant = int(input('Digite a quantidade: '))"
      ],
      "metadata": {
        "id": "0MG8HZoYOFrx",
        "colab": {
          "base_uri": "https://localhost:8080/"
        },
        "outputId": "09e267b0-6a5a-45eb-dc86-fc612242dd58"
      },
      "execution_count": null,
      "outputs": [
        {
          "name": "stdout",
          "output_type": "stream",
          "text": [
            "Digite o codigo do item:100\n",
            "Digite a quantidade: 10\n"
          ]
        }
      ]
    },
    {
      "cell_type": "code",
      "source": [
        "if cod > 105 or cod < 100:\n",
        "  print('Codigo invalido')\n",
        "if cod == 100:\n",
        "   print(f'Preço total é R$ {(10 * quant):.2f}')\n",
        "if cod == 101:\n",
        "   print(f'Preço total é R$ {(18 * quant):.2f}')\n",
        "if cod == 102:\n",
        "   print(f'Preço total é R$ {(20 * quant):.2f}')\n",
        "if cod == 103:\n",
        "   print(f'Preço total é R$ {(50 * quant):.2f}')\n",
        "if cod == 104:\n",
        "   print(f'Preço total é R$ {(15 * quant):.2f}')\n",
        "if cod == 105:\n",
        "   print(f'Preço total é R$ {(4 * quant):.2f}')"
      ],
      "metadata": {
        "colab": {
          "base_uri": "https://localhost:8080/"
        },
        "id": "3uCI-3lf-ija",
        "outputId": "c1856673-e73c-4121-e170-c2963ce64592"
      },
      "execution_count": null,
      "outputs": [
        {
          "output_type": "stream",
          "name": "stdout",
          "text": [
            "Preço total é R$ 100.00\n"
          ]
        }
      ]
    }
  ]
}