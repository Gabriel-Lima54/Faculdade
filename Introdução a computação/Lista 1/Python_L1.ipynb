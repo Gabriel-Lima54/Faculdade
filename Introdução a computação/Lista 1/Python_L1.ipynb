{
  "nbformat": 4,
  "nbformat_minor": 0,
  "metadata": {
    "colab": {
      "provenance": []
    },
    "kernelspec": {
      "name": "python3",
      "display_name": "Python 3"
    },
    "language_info": {
      "name": "python"
    }
  },
  "cells": [
    {
      "cell_type": "code",
      "execution_count": null,
      "metadata": {
        "colab": {
          "base_uri": "https://localhost:8080/"
        },
        "id": "glGmczM4lWAs",
        "outputId": "1e804399-b262-4b2a-eb5f-1f1cdfb85bf8"
      },
      "outputs": [
        {
          "name": "stdout",
          "output_type": "stream",
          "text": [
            "Digite o primeiro valor: 5\n",
            "Digite o segundo valor: 2\n"
          ]
        }
      ],
      "source": [
        "vlr1 = int(input('Digite o primeiro valor:'))\n",
        "vlr2 = int(input('Digite o segundo valor:'))"
      ]
    },
    {
      "cell_type": "code",
      "source": [
        "result = vlr1 * vlr2\n",
        "print('Resultado da multiplicação é:', result)"
      ],
      "metadata": {
        "colab": {
          "base_uri": "https://localhost:8080/"
        },
        "id": "zJtJ9GWm012Z",
        "outputId": "eda282df-86e0-440f-b4f2-1a8dab025148"
      },
      "execution_count": null,
      "outputs": [
        {
          "output_type": "stream",
          "name": "stdout",
          "text": [
            "Resultado da multiplicação é:  10\n"
          ]
        }
      ]
    },
    {
      "cell_type": "markdown",
      "source": [
        "# 2"
      ],
      "metadata": {
        "id": "sdVrkYU81OJY"
      }
    },
    {
      "cell_type": "code",
      "source": [
        "vlr1 = int(input('Digite o primeiro valor:'))\n",
        "vlr2 = int(input('Digite o segundo valor:'))"
      ],
      "metadata": {
        "colab": {
          "base_uri": "https://localhost:8080/"
        },
        "id": "a7jQ00BB1O5X",
        "outputId": "6b004532-b9ba-408a-be16-d4e87118c88b"
      },
      "execution_count": null,
      "outputs": [
        {
          "name": "stdout",
          "output_type": "stream",
          "text": [
            "Digite o primeiro valor: 5\n",
            "Digite o segundo valor: 2\n"
          ]
        }
      ]
    },
    {
      "cell_type": "code",
      "source": [
        "print('Resultado da soma é:', vlr1 + vlr2)\n",
        "print('Resultado da subtração é:', vlr1 - vlr2)\n",
        "print('Resultado da multiplicação é:', vlr1 * vlr2)\n",
        "print('Resultado da divisão é:', vlr1 / vlr2)"
      ],
      "metadata": {
        "colab": {
          "base_uri": "https://localhost:8080/"
        },
        "id": "QyQoDaOT1ZSf",
        "outputId": "4c9f095f-9ccc-4c0a-b67f-9d0f148712ed"
      },
      "execution_count": null,
      "outputs": [
        {
          "output_type": "stream",
          "name": "stdout",
          "text": [
            "Resultado da soma é:  7\n",
            "Resultado da subtração é:  3\n",
            "Resultado da multiplicação é:  10\n",
            "Resultado da divisão é:  2.5\n"
          ]
        }
      ]
    },
    {
      "cell_type": "markdown",
      "source": [
        "#3"
      ],
      "metadata": {
        "id": "YX99Z5OS2EZu"
      }
    },
    {
      "cell_type": "code",
      "source": [
        "vlr1 = int(input('Digite o primeiro valor:'))\n",
        "vlr2 = int(input('Digite o segundo valor:'))"
      ],
      "metadata": {
        "colab": {
          "base_uri": "https://localhost:8080/"
        },
        "id": "z3EWAeBX2E8O",
        "outputId": "cbbcf7fb-2179-485f-e466-cec2c36ffaa8"
      },
      "execution_count": null,
      "outputs": [
        {
          "name": "stdout",
          "output_type": "stream",
          "text": [
            "Digite o primeiro valor: 23\n",
            "Digite o segundo valor: 17\n"
          ]
        }
      ]
    },
    {
      "cell_type": "code",
      "source": [
        "print('O resultado é:', (vlr1-vlr2)^2)"
      ],
      "metadata": {
        "colab": {
          "base_uri": "https://localhost:8080/"
        },
        "id": "T8TO7GsF2Ucl",
        "outputId": "c822a15c-8e55-4477-a227-bed4a22d92d2"
      },
      "execution_count": null,
      "outputs": [
        {
          "output_type": "stream",
          "name": "stdout",
          "text": [
            "O resultado é:  4\n"
          ]
        }
      ]
    },
    {
      "cell_type": "markdown",
      "source": [
        "# 4\n"
      ],
      "metadata": {
        "id": "3vZpmmps3G8n"
      }
    },
    {
      "cell_type": "code",
      "source": [
        "hrs = int(input('Digite o número de horas: '))"
      ],
      "metadata": {
        "colab": {
          "base_uri": "https://localhost:8080/"
        },
        "id": "03V_uZbB3HjE",
        "outputId": "81c39fa3-ad97-46d3-80eb-f7599144829f"
      },
      "execution_count": null,
      "outputs": [
        {
          "name": "stdout",
          "output_type": "stream",
          "text": [
            "Digite o número de horas: 22\n"
          ]
        }
      ]
    },
    {
      "cell_type": "code",
      "source": [
        "print(hrs * 60, 'minutos')"
      ],
      "metadata": {
        "colab": {
          "base_uri": "https://localhost:8080/"
        },
        "id": "b6P-HG_v3H69",
        "outputId": "2f9cfd83-dab5-473c-b4e5-9f80cccb91c6"
      },
      "execution_count": null,
      "outputs": [
        {
          "output_type": "stream",
          "name": "stdout",
          "text": [
            "1320 minutos\n"
          ]
        }
      ]
    },
    {
      "cell_type": "markdown",
      "source": [
        "# 5"
      ],
      "metadata": {
        "id": "u4-AZdtS3JY2"
      }
    },
    {
      "cell_type": "code",
      "source": [
        "hrs = int(input('Digite o número de horas: '))"
      ],
      "metadata": {
        "colab": {
          "base_uri": "https://localhost:8080/"
        },
        "id": "ZzB2m5YA3Yi9",
        "outputId": "8b3ed2fa-c27f-4dcb-fb72-45316e4f9ec8"
      },
      "execution_count": null,
      "outputs": [
        {
          "name": "stdout",
          "output_type": "stream",
          "text": [
            "Digite o número de horas: 22\n"
          ]
        }
      ]
    },
    {
      "cell_type": "code",
      "source": [
        "print(hrs * 3600, 'segundos')"
      ],
      "metadata": {
        "colab": {
          "base_uri": "https://localhost:8080/"
        },
        "id": "uAhcJvBd4WNd",
        "outputId": "ad74eb4b-071c-4157-962b-27d65d336784"
      },
      "execution_count": null,
      "outputs": [
        {
          "output_type": "stream",
          "name": "stdout",
          "text": [
            "79200 segundos\n"
          ]
        }
      ]
    }
  ]
}