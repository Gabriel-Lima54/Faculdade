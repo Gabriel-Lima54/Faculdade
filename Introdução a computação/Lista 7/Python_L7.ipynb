{
  "nbformat": 4,
  "nbformat_minor": 0,
  "metadata": {
    "colab": {
      "provenance": []
    },
    "kernelspec": {
      "name": "python3",
      "display_name": "Python 3"
    },
    "language_info": {
      "name": "python"
    }
  },
  "cells": [
    {
      "cell_type": "code",
      "execution_count": null,
      "metadata": {
        "colab": {
          "base_uri": "https://localhost:8080/"
        },
        "id": "yh5D8owpKl2i",
        "outputId": "2c117adb-ebfc-4988-9c70-873015435d05"
      },
      "outputs": [
        {
          "output_type": "stream",
          "name": "stdout",
          "text": [
            "Digite 10 valores: 1\n",
            "Digite 10 valores: 2\n",
            "Digite 10 valores: 3\n",
            "Digite 10 valores: 4\n",
            "Digite 10 valores: 5\n",
            "Digite 10 valores: 6\n",
            "Digite 10 valores: 7\n",
            "Digite 10 valores: 8\n",
            "Digite 10 valores: 9\n",
            "Digite 10 valores: 10\n",
            "Lista digitada: vet = [1, 2, 3, 4, 5, 6, 7, 8, 9, 10]\n"
          ]
        }
      ],
      "source": [
        "vet = []\n",
        "for i in range(1,11,1):\n",
        "  valor = int(input('Digite 10 valores: '))\n",
        "  vet.append(valor)\n",
        "print('Lista digitada: vet =', vet)"
      ]
    },
    {
      "cell_type": "code",
      "source": [
        "vet = []\n",
        "for i in range(1,6,1):\n",
        "  valor = int(input('Digite 5 valores:'))\n",
        "  vet.append(valor)\n",
        "print('Lista digitada inversa:')\n",
        "for num in range(len(vet),0,-1):\n",
        "  print(f'{num}')"
      ],
      "metadata": {
        "colab": {
          "base_uri": "https://localhost:8080/"
        },
        "id": "UC3ZJEh_MzAt",
        "outputId": "24d84022-d388-4fd3-c4ea-d888bdba4666"
      },
      "execution_count": null,
      "outputs": [
        {
          "output_type": "stream",
          "name": "stdout",
          "text": [
            "Digite 5 valores:1\n",
            "Digite 5 valores:2\n",
            "Digite 5 valores:3\n",
            "Digite 5 valores:4\n",
            "Digite 5 valores:5\n",
            "Lista digitada inversa:\n",
            "5\n",
            "4\n",
            "3\n",
            "2\n",
            "1\n"
          ]
        }
      ]
    },
    {
      "cell_type": "code",
      "source": [
        "vet = []\n",
        "for i in range(1,11,1):\n",
        "  valor = int(input('Digite 10 valores: '))\n",
        "  vet.append(valor)\n",
        "vet.reverse()\n",
        "print(f'Lista digitada inversa: vet = {vet}')"
      ],
      "metadata": {
        "colab": {
          "base_uri": "https://localhost:8080/"
        },
        "id": "8Qt5bSRTTcF7",
        "outputId": "1921321a-66e5-4f55-8136-34955ad66ecc"
      },
      "execution_count": null,
      "outputs": [
        {
          "output_type": "stream",
          "name": "stdout",
          "text": [
            "Digite 10 valores: 1\n",
            "Digite 10 valores: 2\n",
            "Digite 10 valores: 3\n",
            "Digite 10 valores: 4\n",
            "Digite 10 valores: 5\n",
            "Digite 10 valores: 6\n",
            "Digite 10 valores: 7\n",
            "Digite 10 valores: 8\n",
            "Digite 10 valores: 9\n",
            "Digite 10 valores: 10\n",
            "Lista digitada inversa: vet = [10, 9, 8, 7, 6, 5, 4, 3, 2, 1]\n"
          ]
        }
      ]
    },
    {
      "cell_type": "code",
      "source": [
        "vet = []\n",
        "pares = []\n",
        "impares = []\n",
        "\n",
        "for i in range(1,11,1):\n",
        "  valor = int(input('Digite 10 valores: '))\n",
        "  vet.append(valor)\n",
        "for i in vet:\n",
        "  if i % 2 == 0:\n",
        "    pares.append(i)\n",
        "  else:\n",
        "    impares.append(i)\n",
        "\n",
        "print(f'Numeros pares: {pares}')\n",
        "print(f'numeros impares: {impares}')"
      ],
      "metadata": {
        "colab": {
          "base_uri": "https://localhost:8080/"
        },
        "id": "4QCtj7jnNyLZ",
        "outputId": "ddcc3608-d1f0-4935-f2c7-41e7270163fa"
      },
      "execution_count": null,
      "outputs": [
        {
          "output_type": "stream",
          "name": "stdout",
          "text": [
            "Digite 10 valores: 1\n",
            "Digite 10 valores: 2\n",
            "Digite 10 valores: 3\n",
            "Digite 10 valores: 4\n",
            "Digite 10 valores: 5\n",
            "Digite 10 valores: 6\n",
            "Digite 10 valores: 7\n",
            "Digite 10 valores: 8\n",
            "Digite 10 valores: 9\n",
            "Digite 10 valores: 10\n",
            "Numeros pares: [2, 4, 6, 8, 10]\n",
            "numeros impares: [1, 3, 5, 7, 9]\n"
          ]
        }
      ]
    },
    {
      "cell_type": "code",
      "source": [
        "vet = []\n",
        "\n",
        "for i in range(10):\n",
        "  valor = int(input('Digite 10 valores: '))\n",
        "  vet.append(valor)\n",
        "print('Posiçoes com valores menores que zero:')\n",
        "for i in range(10):\n",
        "  if vet[i] < 0:\n",
        "    print(f'{vet[i]}, posiçao {i}')\n"
      ],
      "metadata": {
        "id": "sY2hg46FZptI",
        "colab": {
          "base_uri": "https://localhost:8080/",
          "height": 373
        },
        "outputId": "ccc456d6-81d2-4147-b75d-1df7e2874275"
      },
      "execution_count": null,
      "outputs": [
        {
          "output_type": "error",
          "ename": "KeyboardInterrupt",
          "evalue": "Interrupted by user",
          "traceback": [
            "\u001b[0;31m---------------------------------------------------------------------------\u001b[0m",
            "\u001b[0;31mKeyboardInterrupt\u001b[0m                         Traceback (most recent call last)",
            "\u001b[0;32m<ipython-input-1-4207672420>\u001b[0m in \u001b[0;36m<cell line: 0>\u001b[0;34m()\u001b[0m\n\u001b[1;32m      2\u001b[0m \u001b[0;34m\u001b[0m\u001b[0m\n\u001b[1;32m      3\u001b[0m \u001b[0;32mfor\u001b[0m \u001b[0mi\u001b[0m \u001b[0;32min\u001b[0m \u001b[0mrange\u001b[0m\u001b[0;34m(\u001b[0m\u001b[0;36m10\u001b[0m\u001b[0;34m)\u001b[0m\u001b[0;34m:\u001b[0m\u001b[0;34m\u001b[0m\u001b[0;34m\u001b[0m\u001b[0m\n\u001b[0;32m----> 4\u001b[0;31m   \u001b[0mvalor\u001b[0m \u001b[0;34m=\u001b[0m \u001b[0mint\u001b[0m\u001b[0;34m(\u001b[0m\u001b[0minput\u001b[0m\u001b[0;34m(\u001b[0m\u001b[0;34m'Digite 10 valores: '\u001b[0m\u001b[0;34m)\u001b[0m\u001b[0;34m)\u001b[0m\u001b[0;34m\u001b[0m\u001b[0;34m\u001b[0m\u001b[0m\n\u001b[0m\u001b[1;32m      5\u001b[0m   \u001b[0mvet\u001b[0m\u001b[0;34m.\u001b[0m\u001b[0mappend\u001b[0m\u001b[0;34m(\u001b[0m\u001b[0mvalor\u001b[0m\u001b[0;34m)\u001b[0m\u001b[0;34m\u001b[0m\u001b[0;34m\u001b[0m\u001b[0m\n\u001b[1;32m      6\u001b[0m \u001b[0mprint\u001b[0m\u001b[0;34m(\u001b[0m\u001b[0;34m'Posiçoes com valores menores que zero:'\u001b[0m\u001b[0;34m)\u001b[0m\u001b[0;34m\u001b[0m\u001b[0;34m\u001b[0m\u001b[0m\n",
            "\u001b[0;32m/usr/local/lib/python3.11/dist-packages/ipykernel/kernelbase.py\u001b[0m in \u001b[0;36mraw_input\u001b[0;34m(self, prompt)\u001b[0m\n\u001b[1;32m   1175\u001b[0m                 \u001b[0;34m\"raw_input was called, but this frontend does not support input requests.\"\u001b[0m\u001b[0;34m\u001b[0m\u001b[0;34m\u001b[0m\u001b[0m\n\u001b[1;32m   1176\u001b[0m             )\n\u001b[0;32m-> 1177\u001b[0;31m         return self._input_request(\n\u001b[0m\u001b[1;32m   1178\u001b[0m             \u001b[0mstr\u001b[0m\u001b[0;34m(\u001b[0m\u001b[0mprompt\u001b[0m\u001b[0;34m)\u001b[0m\u001b[0;34m,\u001b[0m\u001b[0;34m\u001b[0m\u001b[0;34m\u001b[0m\u001b[0m\n\u001b[1;32m   1179\u001b[0m             \u001b[0mself\u001b[0m\u001b[0;34m.\u001b[0m\u001b[0m_parent_ident\u001b[0m\u001b[0;34m[\u001b[0m\u001b[0;34m\"shell\"\u001b[0m\u001b[0;34m]\u001b[0m\u001b[0;34m,\u001b[0m\u001b[0;34m\u001b[0m\u001b[0;34m\u001b[0m\u001b[0m\n",
            "\u001b[0;32m/usr/local/lib/python3.11/dist-packages/ipykernel/kernelbase.py\u001b[0m in \u001b[0;36m_input_request\u001b[0;34m(self, prompt, ident, parent, password)\u001b[0m\n\u001b[1;32m   1217\u001b[0m             \u001b[0;32mexcept\u001b[0m \u001b[0mKeyboardInterrupt\u001b[0m\u001b[0;34m:\u001b[0m\u001b[0;34m\u001b[0m\u001b[0;34m\u001b[0m\u001b[0m\n\u001b[1;32m   1218\u001b[0m                 \u001b[0;31m# re-raise KeyboardInterrupt, to truncate traceback\u001b[0m\u001b[0;34m\u001b[0m\u001b[0;34m\u001b[0m\u001b[0m\n\u001b[0;32m-> 1219\u001b[0;31m                 \u001b[0;32mraise\u001b[0m \u001b[0mKeyboardInterrupt\u001b[0m\u001b[0;34m(\u001b[0m\u001b[0;34m\"Interrupted by user\"\u001b[0m\u001b[0;34m)\u001b[0m \u001b[0;32mfrom\u001b[0m \u001b[0;32mNone\u001b[0m\u001b[0;34m\u001b[0m\u001b[0;34m\u001b[0m\u001b[0m\n\u001b[0m\u001b[1;32m   1220\u001b[0m             \u001b[0;32mexcept\u001b[0m \u001b[0mException\u001b[0m\u001b[0;34m:\u001b[0m\u001b[0;34m\u001b[0m\u001b[0;34m\u001b[0m\u001b[0m\n\u001b[1;32m   1221\u001b[0m                 \u001b[0mself\u001b[0m\u001b[0;34m.\u001b[0m\u001b[0mlog\u001b[0m\u001b[0;34m.\u001b[0m\u001b[0mwarning\u001b[0m\u001b[0;34m(\u001b[0m\u001b[0;34m\"Invalid Message:\"\u001b[0m\u001b[0;34m,\u001b[0m \u001b[0mexc_info\u001b[0m\u001b[0;34m=\u001b[0m\u001b[0;32mTrue\u001b[0m\u001b[0;34m)\u001b[0m\u001b[0;34m\u001b[0m\u001b[0;34m\u001b[0m\u001b[0m\n",
            "\u001b[0;31mKeyboardInterrupt\u001b[0m: Interrupted by user"
          ]
        }
      ]
    },
    {
      "cell_type": "code",
      "source": [
        "vet = []\n",
        "\n",
        "for i in range(5):\n",
        "  valor = int(input('Digite 10 valores: '))\n",
        "  vet.append(valor)\n",
        "for i in range(5):\n",
        "  if vet[i] < 0:\n",
        "    vet[i] = abs(vet[i])\n",
        "print(f'vet = {vet}')"
      ],
      "metadata": {
        "id": "dVG5nPuZfRDc",
        "colab": {
          "base_uri": "https://localhost:8080/"
        },
        "outputId": "2ac1d09a-3aba-4375-e9ec-c204eddf7e09"
      },
      "execution_count": null,
      "outputs": [
        {
          "output_type": "stream",
          "name": "stdout",
          "text": [
            "Digite 10 valores: 1\n",
            "Digite 10 valores: 2\n",
            "Digite 10 valores: 3\n",
            "Digite 10 valores: -4\n",
            "Digite 10 valores: -5\n",
            "vet = [1, 2, 3, 4, 5]\n"
          ]
        }
      ]
    }
  ]
}