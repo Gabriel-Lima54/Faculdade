{
  "nbformat": 4,
  "nbformat_minor": 0,
  "metadata": {
    "colab": {
      "provenance": [],
      "toc_visible": true
    },
    "kernelspec": {
      "name": "python3",
      "display_name": "Python 3"
    },
    "language_info": {
      "name": "python"
    }
  },
  "cells": [
    {
      "cell_type": "markdown",
      "source": [
        "# 1  Desenvolva um programa em Python que solicite ao usuário digitar um tempo em minutos. Após a digitação, o computador deverá converter este tempo para horas e mostrar esta informação na tela do computador."
      ],
      "metadata": {
        "id": "IymeUsI_4FLn"
      }
    },
    {
      "cell_type": "code",
      "source": [
        "min = int(input('Digite o valor dos minutos:'))"
      ],
      "metadata": {
        "id": "7X4OGP-04GNW"
      },
      "execution_count": null,
      "outputs": []
    },
    {
      "cell_type": "code",
      "source": [
        "print(min//60,'horas')"
      ],
      "metadata": {
        "colab": {
          "base_uri": "https://localhost:8080/"
        },
        "id": "_V_aog3yALTw",
        "outputId": "9abc796b-424b-49b2-bc38-97aa9cb93ef3"
      },
      "execution_count": null,
      "outputs": [
        {
          "output_type": "stream",
          "name": "stdout",
          "text": [
            "225 horas\n"
          ]
        }
      ]
    },
    {
      "cell_type": "markdown",
      "source": [
        "# 2 Desenvolva um programa em Python que solicite ao usuário digitar um tempo em segundos. Após a digitação, o computador deverá converter este tempo para horas e mostrar esta informação na tela do computador."
      ],
      "metadata": {
        "id": "-GgSTdfdBBLf"
      }
    },
    {
      "cell_type": "code",
      "source": [
        "seg = int(input('Digite o valor dos segundos:'))"
      ],
      "metadata": {
        "colab": {
          "base_uri": "https://localhost:8080/"
        },
        "id": "cBF2np3jBD3f",
        "outputId": "c15c2bfc-24ab-49ad-a4b1-aac891154169"
      },
      "execution_count": null,
      "outputs": [
        {
          "name": "stdout",
          "output_type": "stream",
          "text": [
            "Digite o valor dos segundos:15987\n"
          ]
        }
      ]
    },
    {
      "cell_type": "code",
      "source": [
        "print(seg//3600, 'horas')"
      ],
      "metadata": {
        "colab": {
          "base_uri": "https://localhost:8080/"
        },
        "id": "PULAQalqBOcl",
        "outputId": "fa1c0393-309c-4243-f7eb-dbfa7c1171da"
      },
      "execution_count": null,
      "outputs": [
        {
          "output_type": "stream",
          "name": "stdout",
          "text": [
            "4 horas\n"
          ]
        }
      ]
    },
    {
      "cell_type": "markdown",
      "source": [
        "# 3  Desenvolva um programa em Python que solicite ao usuário digitar um tempo em segundos. Após a digitação, o computador deverá converter este tempo para horas e minutos e mostrar esta informação na tela do computador."
      ],
      "metadata": {
        "id": "0fIkGEJ-CP7e"
      }
    },
    {
      "cell_type": "code",
      "source": [
        "seg = int(input('Digite o valor dos segundos:'))\n",
        "resto = seg%3600"
      ],
      "metadata": {
        "colab": {
          "base_uri": "https://localhost:8080/"
        },
        "id": "PeMRimUqCSJV",
        "outputId": "80de60ef-7573-4ad6-f27e-f8538848fcaf"
      },
      "execution_count": null,
      "outputs": [
        {
          "name": "stdout",
          "output_type": "stream",
          "text": [
            "Digite o valor dos segundos:15987\n"
          ]
        }
      ]
    },
    {
      "cell_type": "code",
      "source": [
        "print(f'{seg//3600} horas e {resto//60} minutos')"
      ],
      "metadata": {
        "colab": {
          "base_uri": "https://localhost:8080/"
        },
        "id": "46M1onLsDcTU",
        "outputId": "7d905d83-9ca0-49d6-fe65-c0cfa8232575"
      },
      "execution_count": null,
      "outputs": [
        {
          "output_type": "stream",
          "name": "stdout",
          "text": [
            "4 horas e 26 minutos\n"
          ]
        }
      ]
    },
    {
      "cell_type": "markdown",
      "source": [
        "# 4 Desenvolva um programa em Python que solicite ao usuário informar três valores reais que correspondam a nota de um aluno, calcule e mostre na tela a média aritmética destas notas. A média aritmética de um conjunto de valores é dada pela soma dos valores dividido pela quantidade de valores considerados:"
      ],
      "metadata": {
        "id": "wuHw-unoGVPB"
      }
    },
    {
      "cell_type": "code",
      "source": [
        "n1 = float(input('Digite a primeira nota:'))\n",
        "n2 = float(input('Digite a segunda nota:'))\n",
        "n3 = float(input('Digite a terceira nota:'))"
      ],
      "metadata": {
        "colab": {
          "base_uri": "https://localhost:8080/"
        },
        "id": "8Mz_ToPsGXE4",
        "outputId": "8c595103-4120-4c47-d4ae-0a099735b18a"
      },
      "execution_count": null,
      "outputs": [
        {
          "name": "stdout",
          "output_type": "stream",
          "text": [
            "Digite a primeira nota:5\n",
            "Digite a segunda nota:3\n",
            "Digite a terceira nota:4\n"
          ]
        }
      ]
    },
    {
      "cell_type": "code",
      "source": [
        "print(f'A média das provas é:{((n1+n2+n3)/3):.2f}')"
      ],
      "metadata": {
        "colab": {
          "base_uri": "https://localhost:8080/"
        },
        "id": "rOvcroOwGyRg",
        "outputId": "75e20359-955e-4274-cbb0-2ca5fdf53e64"
      },
      "execution_count": null,
      "outputs": [
        {
          "output_type": "stream",
          "name": "stdout",
          "text": [
            "A média das provas é:4.00\n"
          ]
        }
      ]
    },
    {
      "cell_type": "markdown",
      "source": [
        "# 5 Desenvolva um programa em Python que solicite ao usuário informar três valores reais que correspondam a nota de um aluno, calcule e mostre na tela a média ponderada com peso 2,5 para a primeira e segunda notas e peso 5 para a terceira nota. A média ponderada de um conjunto de valores é calculada multiplicando os pesos pelos respectivos valores, somando estes valores e dividindo pela soma dos pesos:\n",
        "\n"
      ],
      "metadata": {
        "id": "Y_g3RpJ5I8Kw"
      }
    },
    {
      "cell_type": "code",
      "source": [
        "n1 = float(input('Digite a primeira nota:'))\n",
        "n2 = float(input('Digite a segunda nota:'))\n",
        "n3 = float(input('Digite a terceira nota:'))"
      ],
      "metadata": {
        "id": "kHEOlR8FI_2o",
        "colab": {
          "base_uri": "https://localhost:8080/"
        },
        "outputId": "208ea5fb-7711-4244-ae1c-85d4a35d1aa3"
      },
      "execution_count": null,
      "outputs": [
        {
          "name": "stdout",
          "output_type": "stream",
          "text": [
            "Digite a primeira nota:7.5\n",
            "Digite a segunda nota:6\n",
            "Digite a terceira nota:9.5\n"
          ]
        }
      ]
    },
    {
      "cell_type": "code",
      "source": [
        "print(f'A média das provas é:{((2.5*n1+2.5*n2+5*n3)/10):.2f}')"
      ],
      "metadata": {
        "colab": {
          "base_uri": "https://localhost:8080/"
        },
        "id": "fnpm4ULP666I",
        "outputId": "6fd25172-cffb-41be-ecd7-e6a83122232d"
      },
      "execution_count": null,
      "outputs": [
        {
          "output_type": "stream",
          "name": "stdout",
          "text": [
            "A média das provas é:8.12\n"
          ]
        }
      ]
    },
    {
      "cell_type": "markdown",
      "source": [
        "# 6 Desenvolva um programa em Python que solicite ao usuário informar três valores reais que correspondam a nota de um aluno, calcule e mostre na tela a média harmônica destas notas. A média harmônica de um conjunto de valores é um valor que tende ao menor dos valores sendo calculada pelo inverso da soma do inverso dos valores:"
      ],
      "metadata": {
        "id": "uULFowgGI-RX"
      }
    },
    {
      "cell_type": "code",
      "source": [
        "n1 = float(input('Digite a primeira nota:'))\n",
        "n2 = float(input('Digite a segunda nota:'))\n",
        "n3 = float(input('Digite a terceira nota:'))"
      ],
      "metadata": {
        "id": "l2PHvA6FJAyH",
        "colab": {
          "base_uri": "https://localhost:8080/"
        },
        "outputId": "6b428177-c580-4fec-ea1f-677ca92c4fc8"
      },
      "execution_count": null,
      "outputs": [
        {
          "name": "stdout",
          "output_type": "stream",
          "text": [
            "Digite a primeira nota:7.5\n",
            "Digite a segunda nota:6\n",
            "Digite a terceira nota:9.5\n"
          ]
        }
      ]
    },
    {
      "cell_type": "code",
      "source": [
        "print(f'A média das provas é:{(3/(1/7.5 + 1/6 + 1/9.5)):.2f}')"
      ],
      "metadata": {
        "colab": {
          "base_uri": "https://localhost:8080/"
        },
        "id": "KF41SXCr8BL3",
        "outputId": "ca226f58-5541-46cc-803f-138324bbefed"
      },
      "execution_count": null,
      "outputs": [
        {
          "output_type": "stream",
          "name": "stdout",
          "text": [
            "A média das provas é:7.40\n"
          ]
        }
      ]
    },
    {
      "cell_type": "markdown",
      "source": [
        "# 7 Desenvolva um programa em Python que solicite ao usuário informar três valores reais que correspondam a nota de um aluno, calcule e mostre na tela a média harmônica ponderada destas notas com peso 1 para a primeira nota, peso 2 para a segunda nota e peso 3 para a terceira nota. A média harmônica ponderada de um conjunto de valores é um valor que tende ao menor dos valores sendo calculada pelo inverso da soma do inverso dos valores considerando sua relevância (peso):"
      ],
      "metadata": {
        "id": "JUdPL6OU4k0z"
      }
    },
    {
      "cell_type": "code",
      "source": [
        "n1 = float(input('Digite a primeira nota:'))\n",
        "n2 = float(input('Digite a segunda nota:'))\n",
        "n3 = float(input('Digite a terceira nota:'))"
      ],
      "metadata": {
        "colab": {
          "base_uri": "https://localhost:8080/"
        },
        "id": "r08oPxW18lmU",
        "outputId": "252cb180-f992-434c-b01d-c08e5c76a75d"
      },
      "execution_count": null,
      "outputs": [
        {
          "name": "stdout",
          "output_type": "stream",
          "text": [
            "Digite a primeira nota:7.5\n",
            "Digite a segunda nota:6\n",
            "Digite a terceira nota:9.5\n"
          ]
        }
      ]
    },
    {
      "cell_type": "code",
      "source": [
        "print(f'A média das provas é:{(6/(1/7.5 + 2/6 + 3/9.5)):.2f}')"
      ],
      "metadata": {
        "colab": {
          "base_uri": "https://localhost:8080/"
        },
        "id": "IicbINWq8l2Y",
        "outputId": "303846ce-8857-4db1-f26d-23ad8aade02a"
      },
      "execution_count": null,
      "outputs": [
        {
          "output_type": "stream",
          "name": "stdout",
          "text": [
            "A média das provas é:7.67\n"
          ]
        }
      ]
    },
    {
      "cell_type": "markdown",
      "source": [
        "# 8 Desenvolva um  programa em Python que solicite ao usuário informar dois valores reais que correspondam a nota de um aluno, calcule e mostre qual o valor mínimo da terceira nota para que este aluno seja aprovado considerando média harmônica 6."
      ],
      "metadata": {
        "id": "zsEQNmAf4lGo"
      }
    },
    {
      "cell_type": "markdown",
      "source": [
        "# 9 Desenvolva um programa em Python que solicite ao usuário informar o número da matrícula de um professor, o número de horas-aula ministradas no mês, o valor da hora-aula e a alíquota de recolhimento do INSS.\n",
        "\n",
        "O algoritmo deve calcular o salário bruto e o salário líquido deste professor e mostrar na tela o número da matrícula e o salário calculado."
      ],
      "metadata": {
        "id": "AXigpHgN4lVR"
      }
    },
    {
      "cell_type": "code",
      "source": [
        "nm = int(input(\"Insira o numero da matricula:\"))\n",
        "ha = int(input(\"Insirao numero de horas-aula:\"))\n",
        "vha = float(input(\"Insira o valor por hora-aula:\"))\n",
        "ali =float(input(\"Insira a aliquota do inss:\"))"
      ],
      "metadata": {
        "colab": {
          "base_uri": "https://localhost:8080/"
        },
        "id": "At_J3_LY63QQ",
        "outputId": "2158503a-73f3-4121-bd6a-87108961bf77"
      },
      "execution_count": null,
      "outputs": [
        {
          "name": "stdout",
          "output_type": "stream",
          "text": [
            "Insira o numero da matricula:29\n",
            "Insirao numero de horas-aula:100\n",
            "Insira o valor por hora-aula:25\n",
            "Insira a aliquota do inss:8.5\n"
          ]
        }
      ]
    },
    {
      "cell_type": "code",
      "source": [
        "sal_brt = vha * ha\n",
        "desc = sal_brt * (ali/100)\n",
        "sal_liq = sal_brt - desc"
      ],
      "metadata": {
        "id": "BOmXZKya63hW"
      },
      "execution_count": null,
      "outputs": []
    },
    {
      "cell_type": "code",
      "source": [
        "print('Matricula:', nm)\n",
        "print(f'Salário bruto:R${(sal_brt):.2f}')\n",
        "print(f'Salário líquido:R${(sal_liq):.2f}')"
      ],
      "metadata": {
        "colab": {
          "base_uri": "https://localhost:8080/"
        },
        "id": "cqC3oF8X8pFJ",
        "outputId": "0c2ea85d-8e97-4038-efb9-5f8adc2086f3"
      },
      "execution_count": null,
      "outputs": [
        {
          "output_type": "stream",
          "name": "stdout",
          "text": [
            "Matricula: 29\n",
            "Salário bruto:R$2500.00\n",
            "Salário líquido:R$2287.50\n"
          ]
        }
      ]
    },
    {
      "cell_type": "markdown",
      "source": [
        "# 10 Desenvolva um programa em Python que solicite ao usuário informar o número da matrícula de um professor, o número de horas-aula ministradas no mês, o valor da hora-aula, alíquota de recolhimento do INSS e o % do Imposto de Renda (IR). O algoritmo deve calcular o salário bruto e o salário líquido deste professor e mostrar na tela o número da matrícula, o total de descontos e o salário calculado. Os salários devem ser calculados utilizando as seguintes fórmulas:\n",
        "\n",
        "salário bruto = valor da hora aula X número de horas-aula dadas no mês\n",
        "valor do desconto do INSS = salário bruto * alíquota de recolhimento do INSS\n",
        "valor do desconto do IR = salário bruto * % de IR\n",
        "salário líquido = salário bruto – valor do desconto do INSS - valor do desconto do IR"
      ],
      "metadata": {
        "id": "GSCtthtO4l1q"
      }
    },
    {
      "cell_type": "code",
      "source": [
        "nm = int(input(\"Insira o numero da matricula:\"))\n",
        "ha = int(input(\"Insirao numero de horas-aula:\"))\n",
        "vha = float(input(\"Insira o valor por hora-aula:\"))\n",
        "ali =float(input(\"Insira a aliquota do inss:\"))\n",
        "ir =float(input(\"Insira a % do imposto de renda:\"))"
      ],
      "metadata": {
        "colab": {
          "base_uri": "https://localhost:8080/"
        },
        "id": "SIEXTC2__MSl",
        "outputId": "5e9049b9-edf3-4aca-bb2b-888dc1f5ea38"
      },
      "execution_count": null,
      "outputs": [
        {
          "name": "stdout",
          "output_type": "stream",
          "text": [
            "Insira o numero da matricula:56069\n",
            "Insirao numero de horas-aula:200\n",
            "Insira o valor por hora-aula:100\n",
            "Insira a aliquota do inss:8\n",
            "Insira a % do imposto de renda:20\n"
          ]
        }
      ]
    },
    {
      "cell_type": "code",
      "source": [
        "sal_brt = vha * ha\n",
        "desc = sal_brt * (ali/100)\n",
        "des_ir = sal_brt * (ir/100)\n",
        "sal_liq = sal_brt - desc - des_ir"
      ],
      "metadata": {
        "id": "r-Y4lQns_MtK"
      },
      "execution_count": null,
      "outputs": []
    },
    {
      "cell_type": "code",
      "source": [
        "print('Matricula:', nm)\n",
        "print(f'Salário bruto:R${(sal_brt):.2f}')\n",
        "print(f'Total de descontos:R${(desc + des_ir):.2f}')\n",
        "print(f'Salário líquido:R${(sal_liq):.2f}')"
      ],
      "metadata": {
        "colab": {
          "base_uri": "https://localhost:8080/"
        },
        "id": "WpXVjt85_2Pi",
        "outputId": "15891059-85b5-45aa-f436-1c6d1d023220"
      },
      "execution_count": null,
      "outputs": [
        {
          "output_type": "stream",
          "name": "stdout",
          "text": [
            "Matricula: 56069\n",
            "Salário bruto:R$20000.00\n",
            "Total de descontos:R$5600.00\n",
            "Salário líquido:R$14400.00\n"
          ]
        }
      ]
    },
    {
      "cell_type": "markdown",
      "source": [
        "# 11 Desenvolva um algoritmo que solicite ao usuário informar o número do cadastro de um vendedor, o seu salário fixo, o total de vendas por ele efetuadas e o percentual de comissão sobre as vendas efetuadas. O algoritmo deve calcular o salário deste vendedor e mostrar na tela o número do cadastro, o salário fixo, o valor da comissão e o salário calculado. O salário deve ser calculado somando o salário fixo e o valor da comissão. O valor de comissão é obtido multiplicando o total de vendas pelo percentual que o vendedor ganha sobre o total de vendas.\n"
      ],
      "metadata": {
        "id": "gHZf6iOl4mF7"
      }
    },
    {
      "cell_type": "code",
      "source": [
        "nc = int(input('Insira o numero do cadastro:'))\n",
        "sf = float(input('Insira seu salário fixo:'))\n",
        "tv = int(input('Insira o total de vendas:'))\n",
        "pc = float(input('Insira o percentual de comissao:'))"
      ],
      "metadata": {
        "colab": {
          "base_uri": "https://localhost:8080/"
        },
        "id": "GNVannlRAfEj",
        "outputId": "2b909d52-6ffd-4357-e91e-0a38a4be8b9b"
      },
      "execution_count": null,
      "outputs": [
        {
          "name": "stdout",
          "output_type": "stream",
          "text": [
            "Insira o numero do cadastro:456\n",
            "Insira seu salário fixo:1000\n",
            "Insira o total de vendas:30000\n",
            "Insira o percentual de comissao:3\n"
          ]
        }
      ]
    },
    {
      "cell_type": "code",
      "source": [
        "vc = tv * (pc/100)\n",
        "sal = sf + vc"
      ],
      "metadata": {
        "id": "pFp0Hv1kBFpr"
      },
      "execution_count": null,
      "outputs": []
    },
    {
      "cell_type": "code",
      "source": [
        "print('Numero do cadastro:', nc)\n",
        "print(f'Salário fixo:R${(sf):.2f}')\n",
        "print(f'Valor da comissao:R${(vc):.2f}')\n",
        "print(f'Salário total:R${(sal):.2f}')"
      ],
      "metadata": {
        "colab": {
          "base_uri": "https://localhost:8080/"
        },
        "id": "4LG0a3QKBZbi",
        "outputId": "ad832abe-1f72-4079-ece9-08a64311c5c9"
      },
      "execution_count": null,
      "outputs": [
        {
          "output_type": "stream",
          "name": "stdout",
          "text": [
            "Numero do cadastro: 456\n",
            "Salário fixo:R$1000.00\n",
            "Valor da comissao:R$900.00\n",
            "Salário total:R$1900.00\n"
          ]
        }
      ]
    },
    {
      "cell_type": "markdown",
      "source": [
        "# 12 Desenvolva um programa em Python que solicite ao usuário informar o número de matrícula de um vendedor, o salário fixo, o valor total de suas vendas, o número de carros vendidos e o valor que recebe por carro vendido."
      ],
      "metadata": {
        "id": "5F2xH4354mXB"
      }
    },
    {
      "cell_type": "code",
      "source": [
        "num_ma = int(input('Digite o numero da matricula: '))\n",
        "sal_fix = float(input('Digite o salario fixo: '))\n",
        "val_ven = float(input('Digite o valor das vendas:' ))\n",
        "num_car = int(input('Digite o numero de carros vendidos: '))\n",
        "val_car = float(input('Digite o valor por carro: '))"
      ],
      "metadata": {
        "colab": {
          "base_uri": "https://localhost:8080/"
        },
        "id": "i46kICNOCKFt",
        "outputId": "58f2b6fd-8f46-4129-dd89-08c81fc61126"
      },
      "execution_count": null,
      "outputs": [
        {
          "name": "stdout",
          "output_type": "stream",
          "text": [
            "Digite o numero da matricula: 795\n",
            "Digite o salario fixo: 700\n",
            "Digite o valor das vendas:450000\n",
            "Digite o numero de carros vendidos: 15\n",
            "Digite o valor por carro: 100\n"
          ]
        }
      ]
    },
    {
      "cell_type": "code",
      "source": [
        "sal = sal_fix + val_ven * 0.01 + num_car * val_car\n",
        "print('matricula:', num_ma)\n",
        "print('Salario:', sal)"
      ],
      "metadata": {
        "colab": {
          "base_uri": "https://localhost:8080/"
        },
        "id": "vKH4wlFb3ekZ",
        "outputId": "0524ff2c-2a4d-4a13-f81a-798c911dc403"
      },
      "execution_count": null,
      "outputs": [
        {
          "output_type": "stream",
          "name": "stdout",
          "text": [
            "matricula: 795\n",
            "Salario: 6700.0\n"
          ]
        }
      ]
    }
  ]
}